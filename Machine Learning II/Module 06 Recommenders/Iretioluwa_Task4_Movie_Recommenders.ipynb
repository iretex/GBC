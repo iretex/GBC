{
 "cells": [
  {
   "attachments": {},
   "cell_type": "markdown",
   "metadata": {},
   "source": [
    "This task tests your ability to apply Recommendation Engine concepts and techniques to a real-world Movie Recommender System.\n",
    "\n",
    "\n",
    "\n",
    "\n",
    "Task: Build a Movie Recommender system with the following methods:\n",
    "\n",
    "1. Popularity\n",
    "2. Content Filter\n",
    "3. Collaborative Filter\n",
    "4. Matrix Factorization\n",
    "\n",
    "\n",
    "Also, try the following libraries on the dataset:\n",
    "\n",
    "1. Turicreate\n",
    "2. Surprise\n",
    "\n",
    "\n",
    "Dataset: MovieLens 20M \n",
    "\n",
    "Source: https://grouplens.org/datasets/movielens/20m/\n",
    "\n",
    "\n",
    "\n",
    "Hints:\n",
    "\n",
    "1. Read Movies.csv, Ratings.csv and Tags.csv. No need for genome-scores.csv, genome-tags.csv\n",
    "\n",
    "2. Create content filtering method on metadata obtained from merging movies and tags\n",
    "\n",
    "3. Metadata should be formed from joining all tag field for each movie_title.\n",
    "\n",
    "4. Build a Tfidf Vectorizer model and TruncatedSVD for Content filter - Latent matrix 1 on this data\n",
    "\n",
    "5. Create a Collab filter on User Movie matrix (formed from pivot table on ratings data)\n",
    "\n",
    "6. Create a Latent matrix 2 on this data\n",
    "\n",
    "7. Code hybrid model\n",
    "\n",
    "\n",
    "\n",
    "Open a fresh notebook(.ipynb) and Name it as with the following convention:\n",
    "\n",
    "If your name is Vejey Gandyer, your filename for ipynb should be \"Vejey_Task4_Movie_Recommenders.ipynb\".\n",
    "\n",
    "\n",
    "\n",
    "Start creating cells and put the logic as and when required. \n",
    "\n",
    "\n",
    "\n",
    "Save the notebook and Submit the notebook (.ipynb).\n",
    "\n",
    "\n",
    "\n",
    "\n",
    "\n",
    "Note: Use GPU for this task. It will take days to compute in CPU :)\n",
    "\n",
    "\n",
    "\n",
    "Try using Kaggle Kernel, Google Colab or Your OWN local GPU machine.\n",
    "\n",
    "\n",
    "\n",
    "If there is a huge issue on getting hold of a GPU, try with a lesser size dataset like MovieLens 1M instead of 20M dataset.\n",
    "\n",
    "\n",
    "\n",
    "Have fun learning. All the very best.\n",
    "\n"
   ]
  },
  {
   "cell_type": "code",
   "execution_count": 2,
   "metadata": {},
   "outputs": [
    {
     "name": "stdout",
     "output_type": "stream",
     "text": [
      "+---+---+\n",
      "| a | b |\n",
      "+---+---+\n",
      "| 1 | x |\n",
      "| 2 | y |\n",
      "| 3 | z |\n",
      "+---+---+\n",
      "[3 rows x 2 columns]\n",
      "\n",
      "6.4.1\n"
     ]
    }
   ],
   "source": [
    "import turicreate as tc\n",
    "\n",
    "# create a sample SFrame\n",
    "sf = tc.SFrame({'a': [1, 2, 3], 'b': ['x', 'y', 'z']})\n",
    "\n",
    "# print the first few rows of the SFrame\n",
    "print(sf.head())\n",
    "\n",
    "# check the version of Turicreate\n",
    "print(tc.__version__)"
   ]
  },
  {
   "cell_type": "code",
   "execution_count": 3,
   "metadata": {},
   "outputs": [
    {
     "name": "stdout",
     "output_type": "stream",
     "text": [
      "RMSE: 0.9365355122627813\n",
      "MAE: 0.7385375296710424\n"
     ]
    }
   ],
   "source": [
    "from surprise import Dataset\n",
    "from surprise import SVD\n",
    "from surprise.model_selection import cross_validate\n",
    "\n",
    "# load the movielens-100k dataset\n",
    "data = Dataset.load_builtin('ml-100k')\n",
    "\n",
    "# define a SVD algorithm\n",
    "algo = SVD()\n",
    "\n",
    "# evaluate the algorithm using cross-validation\n",
    "results = cross_validate(algo, data, measures=['RMSE', 'MAE'], cv=5, verbose=False)\n",
    "\n",
    "# print the average RMSE and MAE\n",
    "print('RMSE:', results['test_rmse'].mean())\n",
    "print('MAE:', results['test_mae'].mean())"
   ]
  },
  {
   "cell_type": "code",
   "execution_count": 4,
   "metadata": {},
   "outputs": [],
   "source": [
    "# Importing required libraries\n",
    "import pandas as pd\n",
    "import numpy as np\n",
    "import turicreate as tc\n",
    "from sklearn.feature_extraction.text import TfidfVectorizer\n",
    "from sklearn.decomposition import TruncatedSVD\n",
    "from surprise import Dataset, Reader, SVD, KNNBasic, accuracy"
   ]
  },
  {
   "cell_type": "code",
   "execution_count": 5,
   "metadata": {},
   "outputs": [],
   "source": [
    "# download required dataset\n",
    "import wget\n",
    "\n",
    "url = 'http://files.grouplens.org/datasets/movielens/ml-20m.zip'\n",
    "url_1m = 'http://files.grouplens.org/datasets/movielens/ml-1m.zip'\n",
    "download_path = 'data/'\n",
    "\n",
    "# filename = wget.download(url, out=download_path)\n",
    "filename = wget.download(url_1m, out=download_path)\n"
   ]
  },
  {
   "cell_type": "code",
   "execution_count": 6,
   "metadata": {},
   "outputs": [
    {
     "name": "stdout",
     "output_type": "stream",
     "text": [
      "Archive:  data/ml-1m.zip\n",
      "   creating: data/ml-1m/\n",
      "  inflating: data/ml-1m/movies.dat   \n",
      "  inflating: data/ml-1m/ratings.dat  \n",
      "  inflating: data/ml-1m/README       \n",
      "  inflating: data/ml-1m/users.dat    \n"
     ]
    }
   ],
   "source": [
    "!unzip \"data/ml-1m.zip\" -d \"data/\"\n",
    "# !wget http://files.grouplens.org/datasets/movielens/ml-1m.zip\n",
    "\n"
   ]
  },
  {
   "cell_type": "code",
   "execution_count": 32,
   "metadata": {},
   "outputs": [
    {
     "name": "stderr",
     "output_type": "stream",
     "text": [
      "/tmp/ipykernel_28148/3155958416.py:5: ParserWarning: Falling back to the 'python' engine because the 'c' engine does not support regex separators (separators > 1 char and different from '\\s+' are interpreted as regex); you can avoid this warning by specifying engine='python'.\n",
      "  movies = pd.read_csv('data/ml-1m/movies.dat', sep='::', header=None, names=['movie_id', 'title', 'genres'], encoding='latin-1')\n",
      "/tmp/ipykernel_28148/3155958416.py:6: ParserWarning: Falling back to the 'python' engine because the 'c' engine does not support regex separators (separators > 1 char and different from '\\s+' are interpreted as regex); you can avoid this warning by specifying engine='python'.\n",
      "  ratings = pd.read_csv('data/ml-1m/ratings.dat', sep='::', header=None, names=['user_id', 'movie_id', 'rating', 'timestamp'], encoding='latin-1')\n"
     ]
    }
   ],
   "source": [
    "import pandas as pd\n",
    "import numpy as np\n",
    "\n",
    "# Load data\n",
    "movies = pd.read_csv('data/ml-1m/movies.dat', sep='::', header=None, names=['movie_id', 'title', 'genres'], encoding='latin-1')\n",
    "ratings = pd.read_csv('data/ml-1m/ratings.dat', sep='::', header=None, names=['user_id', 'movie_id', 'rating', 'timestamp'], encoding='latin-1')\n"
   ]
  },
  {
   "cell_type": "code",
   "execution_count": 9,
   "metadata": {},
   "outputs": [
    {
     "name": "stdout",
     "output_type": "stream",
     "text": [
      "\n",
      "Ratings Data :\n",
      "shape :  (1000209, 4)\n",
      "   user_id  movie_id  rating  timestamp\n",
      "0        1      1193       5  978300760\n",
      "1        1       661       3  978302109\n",
      "2        1       914       3  978301968\n",
      "3        1      3408       4  978300275\n",
      "4        1      2355       5  978824291\n"
     ]
    }
   ],
   "source": [
    "print(\"\\nRatings Data :\")\n",
    "print(\"shape : \", ratings.shape)\n",
    "print(ratings.head())"
   ]
  },
  {
   "cell_type": "code",
   "execution_count": 10,
   "metadata": {},
   "outputs": [
    {
     "name": "stdout",
     "output_type": "stream",
     "text": [
      "\n",
      "Movies Data :\n",
      "shape :  (3883, 3)\n",
      "   movie_id                               title                        genres\n",
      "0         1                    Toy Story (1995)   Animation|Children's|Comedy\n",
      "1         2                      Jumanji (1995)  Adventure|Children's|Fantasy\n",
      "2         3             Grumpier Old Men (1995)                Comedy|Romance\n",
      "3         4            Waiting to Exhale (1995)                  Comedy|Drama\n",
      "4         5  Father of the Bride Part II (1995)                        Comedy\n"
     ]
    }
   ],
   "source": [
    "print(\"\\nMovies Data :\")\n",
    "print(\"shape : \", movies.shape)\n",
    "print(movies.head())"
   ]
  },
  {
   "cell_type": "code",
   "execution_count": 11,
   "metadata": {},
   "outputs": [
    {
     "data": {
      "text/plain": [
       "6040"
      ]
     },
     "execution_count": 11,
     "metadata": {},
     "output_type": "execute_result"
    }
   ],
   "source": [
    "# Unique Users\n",
    "n_users = ratings.user_id.unique().shape[0]\n",
    "n_users"
   ]
  },
  {
   "cell_type": "code",
   "execution_count": 12,
   "metadata": {},
   "outputs": [
    {
     "data": {
      "text/plain": [
       "3706"
      ]
     },
     "execution_count": 12,
     "metadata": {},
     "output_type": "execute_result"
    }
   ],
   "source": [
    "# Unique movies\n",
    "n_items = ratings.movie_id.unique().shape[0]\n",
    "n_items"
   ]
  },
  {
   "cell_type": "code",
   "execution_count": 16,
   "metadata": {},
   "outputs": [],
   "source": [
    "# create user-item matrix\n",
    "\n",
    "user_movies_data = ratings.pivot(index = 'movie_id', columns = 'user_id', values = 'rating').fillna(0)"
   ]
  },
  {
   "cell_type": "code",
   "execution_count": 17,
   "metadata": {},
   "outputs": [
    {
     "data": {
      "text/html": [
       "<div>\n",
       "<style scoped>\n",
       "    .dataframe tbody tr th:only-of-type {\n",
       "        vertical-align: middle;\n",
       "    }\n",
       "\n",
       "    .dataframe tbody tr th {\n",
       "        vertical-align: top;\n",
       "    }\n",
       "\n",
       "    .dataframe thead th {\n",
       "        text-align: right;\n",
       "    }\n",
       "</style>\n",
       "<table border=\"1\" class=\"dataframe\">\n",
       "  <thead>\n",
       "    <tr style=\"text-align: right;\">\n",
       "      <th>user_id</th>\n",
       "      <th>1</th>\n",
       "      <th>2</th>\n",
       "      <th>3</th>\n",
       "      <th>4</th>\n",
       "      <th>5</th>\n",
       "      <th>6</th>\n",
       "      <th>7</th>\n",
       "      <th>8</th>\n",
       "      <th>9</th>\n",
       "      <th>10</th>\n",
       "      <th>...</th>\n",
       "      <th>6031</th>\n",
       "      <th>6032</th>\n",
       "      <th>6033</th>\n",
       "      <th>6034</th>\n",
       "      <th>6035</th>\n",
       "      <th>6036</th>\n",
       "      <th>6037</th>\n",
       "      <th>6038</th>\n",
       "      <th>6039</th>\n",
       "      <th>6040</th>\n",
       "    </tr>\n",
       "    <tr>\n",
       "      <th>movie_id</th>\n",
       "      <th></th>\n",
       "      <th></th>\n",
       "      <th></th>\n",
       "      <th></th>\n",
       "      <th></th>\n",
       "      <th></th>\n",
       "      <th></th>\n",
       "      <th></th>\n",
       "      <th></th>\n",
       "      <th></th>\n",
       "      <th></th>\n",
       "      <th></th>\n",
       "      <th></th>\n",
       "      <th></th>\n",
       "      <th></th>\n",
       "      <th></th>\n",
       "      <th></th>\n",
       "      <th></th>\n",
       "      <th></th>\n",
       "      <th></th>\n",
       "      <th></th>\n",
       "    </tr>\n",
       "  </thead>\n",
       "  <tbody>\n",
       "    <tr>\n",
       "      <th>1</th>\n",
       "      <td>5.0</td>\n",
       "      <td>0.0</td>\n",
       "      <td>0.0</td>\n",
       "      <td>0.0</td>\n",
       "      <td>0.0</td>\n",
       "      <td>4.0</td>\n",
       "      <td>0.0</td>\n",
       "      <td>4.0</td>\n",
       "      <td>5.0</td>\n",
       "      <td>5.0</td>\n",
       "      <td>...</td>\n",
       "      <td>0.0</td>\n",
       "      <td>4.0</td>\n",
       "      <td>0.0</td>\n",
       "      <td>0.0</td>\n",
       "      <td>4.0</td>\n",
       "      <td>0.0</td>\n",
       "      <td>0.0</td>\n",
       "      <td>0.0</td>\n",
       "      <td>0.0</td>\n",
       "      <td>3.0</td>\n",
       "    </tr>\n",
       "    <tr>\n",
       "      <th>2</th>\n",
       "      <td>0.0</td>\n",
       "      <td>0.0</td>\n",
       "      <td>0.0</td>\n",
       "      <td>0.0</td>\n",
       "      <td>0.0</td>\n",
       "      <td>0.0</td>\n",
       "      <td>0.0</td>\n",
       "      <td>0.0</td>\n",
       "      <td>0.0</td>\n",
       "      <td>5.0</td>\n",
       "      <td>...</td>\n",
       "      <td>0.0</td>\n",
       "      <td>0.0</td>\n",
       "      <td>0.0</td>\n",
       "      <td>0.0</td>\n",
       "      <td>0.0</td>\n",
       "      <td>0.0</td>\n",
       "      <td>0.0</td>\n",
       "      <td>0.0</td>\n",
       "      <td>0.0</td>\n",
       "      <td>0.0</td>\n",
       "    </tr>\n",
       "    <tr>\n",
       "      <th>3</th>\n",
       "      <td>0.0</td>\n",
       "      <td>0.0</td>\n",
       "      <td>0.0</td>\n",
       "      <td>0.0</td>\n",
       "      <td>0.0</td>\n",
       "      <td>0.0</td>\n",
       "      <td>0.0</td>\n",
       "      <td>0.0</td>\n",
       "      <td>0.0</td>\n",
       "      <td>0.0</td>\n",
       "      <td>...</td>\n",
       "      <td>0.0</td>\n",
       "      <td>0.0</td>\n",
       "      <td>0.0</td>\n",
       "      <td>0.0</td>\n",
       "      <td>1.0</td>\n",
       "      <td>0.0</td>\n",
       "      <td>0.0</td>\n",
       "      <td>0.0</td>\n",
       "      <td>0.0</td>\n",
       "      <td>0.0</td>\n",
       "    </tr>\n",
       "    <tr>\n",
       "      <th>4</th>\n",
       "      <td>0.0</td>\n",
       "      <td>0.0</td>\n",
       "      <td>0.0</td>\n",
       "      <td>0.0</td>\n",
       "      <td>0.0</td>\n",
       "      <td>0.0</td>\n",
       "      <td>0.0</td>\n",
       "      <td>3.0</td>\n",
       "      <td>0.0</td>\n",
       "      <td>0.0</td>\n",
       "      <td>...</td>\n",
       "      <td>0.0</td>\n",
       "      <td>0.0</td>\n",
       "      <td>0.0</td>\n",
       "      <td>0.0</td>\n",
       "      <td>2.0</td>\n",
       "      <td>2.0</td>\n",
       "      <td>0.0</td>\n",
       "      <td>0.0</td>\n",
       "      <td>0.0</td>\n",
       "      <td>0.0</td>\n",
       "    </tr>\n",
       "    <tr>\n",
       "      <th>5</th>\n",
       "      <td>0.0</td>\n",
       "      <td>0.0</td>\n",
       "      <td>0.0</td>\n",
       "      <td>0.0</td>\n",
       "      <td>0.0</td>\n",
       "      <td>0.0</td>\n",
       "      <td>0.0</td>\n",
       "      <td>0.0</td>\n",
       "      <td>0.0</td>\n",
       "      <td>0.0</td>\n",
       "      <td>...</td>\n",
       "      <td>0.0</td>\n",
       "      <td>0.0</td>\n",
       "      <td>0.0</td>\n",
       "      <td>0.0</td>\n",
       "      <td>1.0</td>\n",
       "      <td>0.0</td>\n",
       "      <td>0.0</td>\n",
       "      <td>0.0</td>\n",
       "      <td>0.0</td>\n",
       "      <td>0.0</td>\n",
       "    </tr>\n",
       "    <tr>\n",
       "      <th>...</th>\n",
       "      <td>...</td>\n",
       "      <td>...</td>\n",
       "      <td>...</td>\n",
       "      <td>...</td>\n",
       "      <td>...</td>\n",
       "      <td>...</td>\n",
       "      <td>...</td>\n",
       "      <td>...</td>\n",
       "      <td>...</td>\n",
       "      <td>...</td>\n",
       "      <td>...</td>\n",
       "      <td>...</td>\n",
       "      <td>...</td>\n",
       "      <td>...</td>\n",
       "      <td>...</td>\n",
       "      <td>...</td>\n",
       "      <td>...</td>\n",
       "      <td>...</td>\n",
       "      <td>...</td>\n",
       "      <td>...</td>\n",
       "      <td>...</td>\n",
       "    </tr>\n",
       "    <tr>\n",
       "      <th>3948</th>\n",
       "      <td>0.0</td>\n",
       "      <td>0.0</td>\n",
       "      <td>0.0</td>\n",
       "      <td>0.0</td>\n",
       "      <td>0.0</td>\n",
       "      <td>0.0</td>\n",
       "      <td>0.0</td>\n",
       "      <td>0.0</td>\n",
       "      <td>3.0</td>\n",
       "      <td>4.0</td>\n",
       "      <td>...</td>\n",
       "      <td>0.0</td>\n",
       "      <td>0.0</td>\n",
       "      <td>0.0</td>\n",
       "      <td>0.0</td>\n",
       "      <td>0.0</td>\n",
       "      <td>0.0</td>\n",
       "      <td>0.0</td>\n",
       "      <td>0.0</td>\n",
       "      <td>0.0</td>\n",
       "      <td>0.0</td>\n",
       "    </tr>\n",
       "    <tr>\n",
       "      <th>3949</th>\n",
       "      <td>0.0</td>\n",
       "      <td>0.0</td>\n",
       "      <td>0.0</td>\n",
       "      <td>0.0</td>\n",
       "      <td>0.0</td>\n",
       "      <td>0.0</td>\n",
       "      <td>0.0</td>\n",
       "      <td>0.0</td>\n",
       "      <td>0.0</td>\n",
       "      <td>0.0</td>\n",
       "      <td>...</td>\n",
       "      <td>0.0</td>\n",
       "      <td>0.0</td>\n",
       "      <td>0.0</td>\n",
       "      <td>0.0</td>\n",
       "      <td>0.0</td>\n",
       "      <td>0.0</td>\n",
       "      <td>0.0</td>\n",
       "      <td>0.0</td>\n",
       "      <td>0.0</td>\n",
       "      <td>0.0</td>\n",
       "    </tr>\n",
       "    <tr>\n",
       "      <th>3950</th>\n",
       "      <td>0.0</td>\n",
       "      <td>0.0</td>\n",
       "      <td>0.0</td>\n",
       "      <td>0.0</td>\n",
       "      <td>0.0</td>\n",
       "      <td>0.0</td>\n",
       "      <td>0.0</td>\n",
       "      <td>0.0</td>\n",
       "      <td>0.0</td>\n",
       "      <td>0.0</td>\n",
       "      <td>...</td>\n",
       "      <td>0.0</td>\n",
       "      <td>0.0</td>\n",
       "      <td>0.0</td>\n",
       "      <td>0.0</td>\n",
       "      <td>0.0</td>\n",
       "      <td>0.0</td>\n",
       "      <td>0.0</td>\n",
       "      <td>0.0</td>\n",
       "      <td>0.0</td>\n",
       "      <td>0.0</td>\n",
       "    </tr>\n",
       "    <tr>\n",
       "      <th>3951</th>\n",
       "      <td>0.0</td>\n",
       "      <td>0.0</td>\n",
       "      <td>0.0</td>\n",
       "      <td>0.0</td>\n",
       "      <td>0.0</td>\n",
       "      <td>0.0</td>\n",
       "      <td>0.0</td>\n",
       "      <td>0.0</td>\n",
       "      <td>0.0</td>\n",
       "      <td>0.0</td>\n",
       "      <td>...</td>\n",
       "      <td>0.0</td>\n",
       "      <td>0.0</td>\n",
       "      <td>0.0</td>\n",
       "      <td>0.0</td>\n",
       "      <td>0.0</td>\n",
       "      <td>0.0</td>\n",
       "      <td>0.0</td>\n",
       "      <td>0.0</td>\n",
       "      <td>0.0</td>\n",
       "      <td>0.0</td>\n",
       "    </tr>\n",
       "    <tr>\n",
       "      <th>3952</th>\n",
       "      <td>0.0</td>\n",
       "      <td>0.0</td>\n",
       "      <td>0.0</td>\n",
       "      <td>0.0</td>\n",
       "      <td>0.0</td>\n",
       "      <td>0.0</td>\n",
       "      <td>0.0</td>\n",
       "      <td>0.0</td>\n",
       "      <td>0.0</td>\n",
       "      <td>0.0</td>\n",
       "      <td>...</td>\n",
       "      <td>0.0</td>\n",
       "      <td>0.0</td>\n",
       "      <td>0.0</td>\n",
       "      <td>0.0</td>\n",
       "      <td>0.0</td>\n",
       "      <td>0.0</td>\n",
       "      <td>0.0</td>\n",
       "      <td>0.0</td>\n",
       "      <td>0.0</td>\n",
       "      <td>0.0</td>\n",
       "    </tr>\n",
       "  </tbody>\n",
       "</table>\n",
       "<p>3706 rows × 6040 columns</p>\n",
       "</div>"
      ],
      "text/plain": [
       "user_id   1     2     3     4     5     6     7     8     9     10    ...  \\\n",
       "movie_id                                                              ...   \n",
       "1          5.0   0.0   0.0   0.0   0.0   4.0   0.0   4.0   5.0   5.0  ...   \n",
       "2          0.0   0.0   0.0   0.0   0.0   0.0   0.0   0.0   0.0   5.0  ...   \n",
       "3          0.0   0.0   0.0   0.0   0.0   0.0   0.0   0.0   0.0   0.0  ...   \n",
       "4          0.0   0.0   0.0   0.0   0.0   0.0   0.0   3.0   0.0   0.0  ...   \n",
       "5          0.0   0.0   0.0   0.0   0.0   0.0   0.0   0.0   0.0   0.0  ...   \n",
       "...        ...   ...   ...   ...   ...   ...   ...   ...   ...   ...  ...   \n",
       "3948       0.0   0.0   0.0   0.0   0.0   0.0   0.0   0.0   3.0   4.0  ...   \n",
       "3949       0.0   0.0   0.0   0.0   0.0   0.0   0.0   0.0   0.0   0.0  ...   \n",
       "3950       0.0   0.0   0.0   0.0   0.0   0.0   0.0   0.0   0.0   0.0  ...   \n",
       "3951       0.0   0.0   0.0   0.0   0.0   0.0   0.0   0.0   0.0   0.0  ...   \n",
       "3952       0.0   0.0   0.0   0.0   0.0   0.0   0.0   0.0   0.0   0.0  ...   \n",
       "\n",
       "user_id   6031  6032  6033  6034  6035  6036  6037  6038  6039  6040  \n",
       "movie_id                                                              \n",
       "1          0.0   4.0   0.0   0.0   4.0   0.0   0.0   0.0   0.0   3.0  \n",
       "2          0.0   0.0   0.0   0.0   0.0   0.0   0.0   0.0   0.0   0.0  \n",
       "3          0.0   0.0   0.0   0.0   1.0   0.0   0.0   0.0   0.0   0.0  \n",
       "4          0.0   0.0   0.0   0.0   2.0   2.0   0.0   0.0   0.0   0.0  \n",
       "5          0.0   0.0   0.0   0.0   1.0   0.0   0.0   0.0   0.0   0.0  \n",
       "...        ...   ...   ...   ...   ...   ...   ...   ...   ...   ...  \n",
       "3948       0.0   0.0   0.0   0.0   0.0   0.0   0.0   0.0   0.0   0.0  \n",
       "3949       0.0   0.0   0.0   0.0   0.0   0.0   0.0   0.0   0.0   0.0  \n",
       "3950       0.0   0.0   0.0   0.0   0.0   0.0   0.0   0.0   0.0   0.0  \n",
       "3951       0.0   0.0   0.0   0.0   0.0   0.0   0.0   0.0   0.0   0.0  \n",
       "3952       0.0   0.0   0.0   0.0   0.0   0.0   0.0   0.0   0.0   0.0  \n",
       "\n",
       "[3706 rows x 6040 columns]"
      ]
     },
     "execution_count": 17,
     "metadata": {},
     "output_type": "execute_result"
    }
   ],
   "source": [
    "user_movies_data"
   ]
  },
  {
   "cell_type": "markdown",
   "metadata": {},
   "source": [
    "Popularity Based Recommender"
   ]
  },
  {
   "cell_type": "code",
   "execution_count": 18,
   "metadata": {},
   "outputs": [
    {
     "data": {
      "text/plain": [
       "title\n",
       "Ulysses (Ulisse) (1954)                      5.0\n",
       "Lured (1947)                                 5.0\n",
       "Follow the Bitch (1998)                      5.0\n",
       "Bittersweet Motel (2000)                     5.0\n",
       "Song of Freedom (1936)                       5.0\n",
       "One Little Indian (1973)                     5.0\n",
       "Smashing Time (1967)                         5.0\n",
       "Schlafes Bruder (Brother of Sleep) (1995)    5.0\n",
       "Gate of Heavenly Peace, The (1995)           5.0\n",
       "Baby, The (1973)                             5.0\n",
       "Name: rating, dtype: float64"
      ]
     },
     "execution_count": 18,
     "metadata": {},
     "output_type": "execute_result"
    }
   ],
   "source": [
    "# Merge the two datasets on movieId\n",
    "movie_ratings = pd.merge(movies, ratings, on='movie_id')\n",
    "\n",
    "# Calculate the mean rating for each movie and sort by descending order\n",
    "movie_popularity = movie_ratings.groupby('title')['rating'].mean().sort_values(ascending=False)\n",
    "\n",
    "# Recommend top 10 popular movies\n",
    "top_10_movies = movie_popularity.head(10)\n",
    "top_10_movies"
   ]
  },
  {
   "attachments": {},
   "cell_type": "markdown",
   "metadata": {},
   "source": [
    "Content Bases Filtering"
   ]
  },
  {
   "cell_type": "code",
   "execution_count": 37,
   "metadata": {},
   "outputs": [
    {
     "data": {
      "text/html": [
       "<div>\n",
       "<style scoped>\n",
       "    .dataframe tbody tr th:only-of-type {\n",
       "        vertical-align: middle;\n",
       "    }\n",
       "\n",
       "    .dataframe tbody tr th {\n",
       "        vertical-align: top;\n",
       "    }\n",
       "\n",
       "    .dataframe thead th {\n",
       "        text-align: right;\n",
       "    }\n",
       "</style>\n",
       "<table border=\"1\" class=\"dataframe\">\n",
       "  <thead>\n",
       "    <tr style=\"text-align: right;\">\n",
       "      <th></th>\n",
       "      <th>0</th>\n",
       "      <th>1</th>\n",
       "      <th>2</th>\n",
       "    </tr>\n",
       "  </thead>\n",
       "  <tbody>\n",
       "    <tr>\n",
       "      <th>0</th>\n",
       "      <td>1</td>\n",
       "      <td>Toy Story (1995)</td>\n",
       "      <td>funny,comedy,family,witty,adventure,Drama,Tom ...</td>\n",
       "    </tr>\n",
       "    <tr>\n",
       "      <th>1</th>\n",
       "      <td>2</td>\n",
       "      <td>Jumanji (1995)</td>\n",
       "      <td>Drama,Robin Williams,board game,Thriller,fantasy</td>\n",
       "    </tr>\n",
       "    <tr>\n",
       "      <th>2</th>\n",
       "      <td>3</td>\n",
       "      <td>Grumpier Old Men (1995)</td>\n",
       "      <td>Drama,Thriller</td>\n",
       "    </tr>\n",
       "    <tr>\n",
       "      <th>3</th>\n",
       "      <td>4</td>\n",
       "      <td>Waiting to Exhale (1995)</td>\n",
       "      <td>Drama,Thriller</td>\n",
       "    </tr>\n",
       "    <tr>\n",
       "      <th>4</th>\n",
       "      <td>5</td>\n",
       "      <td>Father of the Bride Part II (1995)</td>\n",
       "      <td>Drama,Thriller</td>\n",
       "    </tr>\n",
       "    <tr>\n",
       "      <th>...</th>\n",
       "      <td>...</td>\n",
       "      <td>...</td>\n",
       "      <td>...</td>\n",
       "    </tr>\n",
       "    <tr>\n",
       "      <th>3878</th>\n",
       "      <td>3948</td>\n",
       "      <td>Meet the Parents (2000)</td>\n",
       "      <td>funny moments,Drama,Ben Stiller,comedy,Thrille...</td>\n",
       "    </tr>\n",
       "    <tr>\n",
       "      <th>3879</th>\n",
       "      <td>3949</td>\n",
       "      <td>Requiem for a Dream (2000)</td>\n",
       "      <td>based on a book,prostitution,psychological,dis...</td>\n",
       "    </tr>\n",
       "    <tr>\n",
       "      <th>3880</th>\n",
       "      <td>3950</td>\n",
       "      <td>Tigerland (2000)</td>\n",
       "      <td>Drama,Thriller</td>\n",
       "    </tr>\n",
       "    <tr>\n",
       "      <th>3881</th>\n",
       "      <td>3951</td>\n",
       "      <td>Two Family House (2000)</td>\n",
       "      <td>Drama,Thriller</td>\n",
       "    </tr>\n",
       "    <tr>\n",
       "      <th>3882</th>\n",
       "      <td>3952</td>\n",
       "      <td>Contender, The (2000)</td>\n",
       "      <td>Drama,Thriller</td>\n",
       "    </tr>\n",
       "  </tbody>\n",
       "</table>\n",
       "<p>3883 rows × 3 columns</p>\n",
       "</div>"
      ],
      "text/plain": [
       "         0                                   1  \\\n",
       "0        1                    Toy Story (1995)   \n",
       "1        2                      Jumanji (1995)   \n",
       "2        3             Grumpier Old Men (1995)   \n",
       "3        4            Waiting to Exhale (1995)   \n",
       "4        5  Father of the Bride Part II (1995)   \n",
       "...    ...                                 ...   \n",
       "3878  3948             Meet the Parents (2000)   \n",
       "3879  3949          Requiem for a Dream (2000)   \n",
       "3880  3950                    Tigerland (2000)   \n",
       "3881  3951             Two Family House (2000)   \n",
       "3882  3952               Contender, The (2000)   \n",
       "\n",
       "                                                      2  \n",
       "0     funny,comedy,family,witty,adventure,Drama,Tom ...  \n",
       "1      Drama,Robin Williams,board game,Thriller,fantasy  \n",
       "2                                        Drama,Thriller  \n",
       "3                                        Drama,Thriller  \n",
       "4                                        Drama,Thriller  \n",
       "...                                                 ...  \n",
       "3878  funny moments,Drama,Ben Stiller,comedy,Thrille...  \n",
       "3879  based on a book,prostitution,psychological,dis...  \n",
       "3880                                     Drama,Thriller  \n",
       "3881                                     Drama,Thriller  \n",
       "3882                                     Drama,Thriller  \n",
       "\n",
       "[3883 rows x 3 columns]"
      ]
     },
     "execution_count": 37,
     "metadata": {},
     "output_type": "execute_result"
    }
   ],
   "source": [
    "tags_df = pd.read_csv('data/movielens_tags/movielens_tags/ml-1m-movies_tags.txt', sep='::', engine='python', header=None , encoding='latin-1')\n",
    "tags_df"
   ]
  },
  {
   "cell_type": "code",
   "execution_count": 38,
   "metadata": {},
   "outputs": [
    {
     "name": "stderr",
     "output_type": "stream",
     "text": [
      "/tmp/ipykernel_28148/1861652092.py:1: ParserWarning: Falling back to the 'python' engine because the 'c' engine does not support regex separators (separators > 1 char and different from '\\s+' are interpreted as regex); you can avoid this warning by specifying engine='python'.\n",
      "  users = pd.read_csv('data/ml-1m/users.dat', sep='::', header=None, names=['user_id','gender','Age','occupation','zip-code'], encoding='latin-1')\n"
     ]
    }
   ],
   "source": [
    "users = pd.read_csv('data/ml-1m/users.dat', sep='::', header=None, names=['user_id','gender','Age','occupation','zip-code'], encoding='latin-1')\n",
    "\n",
    "# load the tags file\n",
    "tags_df = pd.read_csv('data/movielens_tags/movielens_tags/ml-1m-movies_tags.txt', sep='::', engine='python', header=None, names=['movie_id', 'title', 'Tag'] , encoding='latin-1')\n",
    "\n",
    "# extract metadata\n",
    "metadata = tags_df.groupby('movie_id')['Tag'].apply(lambda x: ' '.join(x)).reset_index()\n",
    "metadata = pd.merge(metadata, movies[['movie_id', 'title']], on='movie_id')\n",
    "metadata['metadata'] = metadata['title'] + ' ' + metadata['Tag']\n",
    "metadata.drop(['title', 'Tag'], axis=1, inplace=True)\n"
   ]
  },
  {
   "cell_type": "code",
   "execution_count": 45,
   "metadata": {},
   "outputs": [
    {
     "data": {
      "text/plain": [
       "<2x2 sparse matrix of type '<class 'numpy.float64'>'\n",
       "\twith 2 stored elements in Compressed Sparse Row format>"
      ]
     },
     "execution_count": 45,
     "metadata": {},
     "output_type": "execute_result"
    }
   ],
   "source": [
    "tag_matrix"
   ]
  },
  {
   "cell_type": "code",
   "execution_count": 46,
   "metadata": {},
   "outputs": [
    {
     "name": "stdout",
     "output_type": "stream",
     "text": [
      "(3883, 1168)\n"
     ]
    }
   ],
   "source": [
    "from sklearn.feature_extraction.text import TfidfVectorizer\n",
    "from sklearn.decomposition import TruncatedSVD\n",
    "\n",
    "# Merge tags and movies dataframes on 'movieId'\n",
    "# tags_movies = pd.merge(tags, movies, on='movieId')\n",
    "\n",
    "# # Group tags by movieId and concatenate the tag strings\n",
    "# tag_strings = tags_movies.groupby('movieId')['tag'].apply(lambda x: ' '.join(x))\n",
    "\n",
    "# Create a TfidfVectorizer object and fit it to the tag strings\n",
    "vectorizer = TfidfVectorizer(stop_words='english')\n",
    "tag_matrix = vectorizer.fit_transform(tags_df[\"Tag\"])\n",
    "tfidf_df = pd.DataFrame(tag_matrix.toarray(), index=movies.index.tolist())\n",
    "print(tfidf_df.shape)\n",
    "\n",
    "\n",
    "# Create a TruncatedSVD object and fit it to the tag matrix\n",
    "# svd = TruncatedSVD(n_components=100)\n",
    "# latent_matrix = svd.fit_transform(tag_matrix)\n"
   ]
  },
  {
   "cell_type": "code",
   "execution_count": 47,
   "metadata": {},
   "outputs": [
    {
     "data": {
      "image/png": "[encoded data removed]",
      "text/plain": [
       "<Figure size 640x480 with 1 Axes>"
      ]
     },
     "metadata": {},
     "output_type": "display_data"
    }
   ],
   "source": [
    "import matplotlib.pyplot as plt\n",
    "from sklearn.decomposition import TruncatedSVD\n",
    "svd = TruncatedSVD(n_components=19)\n",
    "latent_matrix = svd.fit_transform(tfidf_df)\n",
    "# plot var expalined to see what latent dimensions to use\n",
    "explained = svd.explained_variance_ratio_.cumsum()\n",
    "plt.plot(explained, '.-', ms = 16, color='red')\n",
    "plt.xlabel('Singular value components', fontsize= 12)\n",
    "plt.ylabel('Cumulative percent of variance', fontsize=12)        \n",
    "plt.show()"
   ]
  },
  {
   "cell_type": "code",
   "execution_count": 48,
   "metadata": {},
   "outputs": [],
   "source": [
    "n = 20\n",
    "latent_matrix_1_df = pd.DataFrame(latent_matrix[:,0:n], index=movies.title.tolist())"
   ]
  },
  {
   "cell_type": "code",
   "execution_count": 49,
   "metadata": {},
   "outputs": [
    {
     "data": {
      "text/plain": [
       "(3883, 19)"
      ]
     },
     "execution_count": 49,
     "metadata": {},
     "output_type": "execute_result"
    }
   ],
   "source": [
    "latent_matrix_1_df.shape"
   ]
  },
  {
   "cell_type": "code",
   "execution_count": null,
   "metadata": {},
   "outputs": [],
   "source": [
    "from sklearn.metrics.pairwise import cosine_similarity\n",
    "\n",
    "# Calculate cosine similarity between movies based on latent matrix\n",
    "cosine_similarities = cosine_similarity(latent_matrix)\n",
    "\n",
    "# Create a dictionary of movie titles and indices\n",
    "movie_dict = dict(zip(movies['title'], movies.index))\n",
    "\n",
    "def content_recommender(title, cosine_similarities=cosine_similarities, movie_dict=movie_dict, k=10):\n",
    "    \"\"\"\n",
    "    Recommends movies based on content similarity to a given movie.\n",
    "    \n",
    "    Parameters:\n",
    "    title (str): Title of the movie to find recommendations for.\n",
    "    cosine_similarities (numpy.ndarray): Array of cosine similarities between movies.\n",
    "    movie_dict (dict): Dictionary of movie titles and indices.\n",
    "    k (int): Number of recommendations to return.\n",
    "    \n",
    "    Returns:\n",
    "    list: List of k movie titles recommended for the user.\n",
    "    \"\"\"\n",
    "    # Get the index of the movie\n",
    "    movie_index = movie_dict[title]\n",
    "\n",
    "    # Get the cosine similarities between the movie and all other movies\n",
    "    cosine_similarities = cosine_similarities[movie_index]\n",
    "\n",
    "    # Get the indices of the top-k most similar movies\n",
    "    similar_indices = cosine_similarities.argsort()[:-k-1:-1]\n",
    "\n",
    "    # Get the titles of the top-k most similar movies\n",
    "    similar_movies = [movies['title'][i] for i in similar_indices]\n",
    "\n",
    "    return similar_movies\n"
   ]
  },
  {
   "cell_type": "code",
   "execution_count": null,
   "metadata": {},
   "outputs": [],
   "source": [
    "from sklearn.feature_extraction.text import TfidfVectorizer\n",
    "from sklearn.decomposition import TruncatedSVD\n",
    "from sklearn.metrics.pairwise import cosine_similarity\n",
    "\n",
    "\n",
    "# Join the two datasets together\n",
    "data = pd.merge(movies, ratings, on='movie_id')\n",
    "\n",
    "# Pre-process the metadata by combining all the tag fields for each movie into a single string\n",
    "# data['tag'] = data['tag'].astype(str)\n",
    "# metadata = data.groupby('movie_id')['tag'].apply(lambda x: ' '.join(x))\n",
    "\n",
    "# Build a TF-IDF vectorizer and Truncated SVD model\n",
    "vectorizer = TfidfVectorizer(stop_words='english')\n",
    "X = vectorizer.fit_transform(metadata)\n",
    "svd = TruncatedSVD(n_components=200)\n",
    "X = svd.fit_transform(X)\n",
    "\n",
    "# Compute similarity scores between different movies\n",
    "similarity = cosine_similarity(X)\n",
    "\n",
    "# Define a function to recommend movies based on user's past preferences\n",
    "def content_based_recommendations(user_id, num_recommendations=10):\n",
    "    # Get the movies that the user has rated highly\n",
    "    user_ratings = data[data['userId'] == user_id]\n",
    "    user_ratings = user_ratings[user_ratings['rating'] >= 4.0]\n",
    "    user_movies = set(user_ratings['movieId'].unique())\n",
    "\n",
    "    # Compute the average rating for each movie and the number of ratings for each movie\n",
    "    average_ratings = data.groupby('movieId')['rating'].agg(['mean', 'count'])\n",
    "\n",
    "    # Compute the weighted average rating for each movie based on the user's past preferences\n",
    "    weighted_ratings = []\n",
    "    for movie_id in user_movies:\n",
    "        movie_ratings = data[data['movieId'] == movie_id]\n",
    "        movie_average_rating = average_ratings.loc[movie_id, 'mean']\n",
    "        movie_num_ratings = average_ratings.loc[movie_id, 'count']\n",
    "        user_rating = movie_ratings[movie_ratings['userId'] == user_id]['rating'].iloc[0]\n",
    "        weighted_ratings.append((movie_id, user_rating * movie_num_ratings / (movie_num_ratings + 10) + movie_average_rating * 10 / (movie_num_ratings + 10)))\n",
    "    weighted_ratings = sorted(weighted_ratings, key=lambda x: x[1], reverse=True)\n",
    "\n",
    "    # Recommend movies similar to the ones the user has liked in the past\n",
    "    recommendations = []\n",
    "    for movie_id, weighted_rating in\n"
   ]
  },
  {
   "cell_type": "code",
   "execution_count": 15,
   "metadata": {},
   "outputs": [
    {
     "name": "stderr",
     "output_type": "stream",
     "text": [
      "/tmp/ipykernel_28148/4144369689.py:5: ParserWarning: Falling back to the 'python' engine because the 'c' engine does not support regex separators (separators > 1 char and different from '\\s+' are interpreted as regex); you can avoid this warning by specifying engine='python'.\n",
      "  for chunk in pd.read_csv(filename, sep='::', header=None, names=['user_id', 'movie_id', 'rating', 'timestamp'], encoding='latin-1', chunksize=chunksize):\n"
     ]
    },
    {
     "ename": "ValueError",
     "evalue": "all the input array dimensions for the concatenation axis must match exactly, but along dimension 0, the array at index 0 has size 3264 and the array at index 1 has size 3370",
     "output_type": "error",
     "traceback": [
      "\u001b[0;31m---------------------------------------------------------------------------\u001b[0m",
      "\u001b[0;31mValueError\u001b[0m                                Traceback (most recent call last)",
      "Cell \u001b[0;32mIn[15], line 22\u001b[0m\n\u001b[1;32m     19\u001b[0m \u001b[39m# Check that the list is not empty before concatenating the matrices\u001b[39;00m\n\u001b[1;32m     20\u001b[0m \u001b[39mif\u001b[39;00m \u001b[39mlen\u001b[39m(user_movies_data) \u001b[39m>\u001b[39m \u001b[39m0\u001b[39m:\n\u001b[1;32m     21\u001b[0m     \u001b[39m# Concatenate the matrices in the list along the movie axis\u001b[39;00m\n\u001b[0;32m---> 22\u001b[0m     ser_movies_data \u001b[39m=\u001b[39m csr_matrix(np\u001b[39m.\u001b[39;49mconcatenate(user_movies_data, axis\u001b[39m=\u001b[39;49m\u001b[39m1\u001b[39;49m))\n\u001b[1;32m     23\u001b[0m \u001b[39melse\u001b[39;00m:\n\u001b[1;32m     24\u001b[0m     \u001b[39m# If the list is empty, create an empty matrix\u001b[39;00m\n\u001b[1;32m     25\u001b[0m     ser_movies_data \u001b[39m=\u001b[39m csr_matrix((\u001b[39m0\u001b[39m, \u001b[39m0\u001b[39m))\n",
      "File \u001b[0;32m<__array_function__ internals>:180\u001b[0m, in \u001b[0;36mconcatenate\u001b[0;34m(*args, **kwargs)\u001b[0m\n",
      "\u001b[0;31mValueError\u001b[0m: all the input array dimensions for the concatenation axis must match exactly, but along dimension 0, the array at index 0 has size 3264 and the array at index 1 has size 3370"
     ]
    }
   ],
   "source": [
    "from scipy.sparse import csr_matrix\n",
    "\n",
    "# Define a function to read the ratings.csv file in chunks\n",
    "def read_ratings_file(filename, chunksize):\n",
    "    for chunk in pd.read_csv(filename, sep='::', header=None, names=['user_id', 'movie_id', 'rating', 'timestamp'], encoding='latin-1', chunksize=chunksize):\n",
    "        yield chunk\n",
    "\n",
    "# Initialize an empty list to store the user-movie matrices\n",
    "user_movies_data = []\n",
    "\n",
    "# Iterate over the chunks of the ratings dataframe\n",
    "for chunk in read_ratings_file('data/ml-1m/ratings.dat',  chunksize=100000):\n",
    "    # Pivot the chunk into a user-movie matrix\n",
    "    mat = chunk.pivot(index = 'movie_id', columns = 'user_id', values = 'rating').fillna(0)\n",
    "    # Add the matrix to the list\n",
    "    if mat.shape[1] > 0:\n",
    "        user_movies_data.append(mat)\n",
    "\n",
    "# Check that the list is not empty before concatenating the matrices\n",
    "if len(user_movies_data) > 0:\n",
    "    # Concatenate the matrices in the list along the movie axis\n",
    "    ser_movies_data = csr_matrix(np.concatenate(user_movies_data, axis=1))\n",
    "else:\n",
    "    # If the list is empty, create an empty matrix\n",
    "    ser_movies_data = csr_matrix((0, 0))\n",
    "\n",
    "# Convert the sparse matrix to a dataframe\n",
    "df_movies = pd.DataFrame.sparse.from_spmatrix(ser_movies_data)\n"
   ]
  },
  {
   "cell_type": "code",
   "execution_count": 14,
   "metadata": {},
   "outputs": [
    {
     "name": "stdout",
     "output_type": "stream",
     "text": [
      "Archive:  data/ml-20m.zip\n",
      "   creating: data/ml-20m/\n",
      "  inflating: data/ml-20m/genome-scores.csv  \n",
      "  inflating: data/ml-20m/genome-tags.csv  \n",
      "  inflating: data/ml-20m/links.csv   \n",
      "  inflating: data/ml-20m/movies.csv  \n",
      "  inflating: data/ml-20m/ratings.csv  \n",
      "  inflating: data/ml-20m/README.txt  \n",
      "  inflating: data/ml-20m/tags.csv    \n"
     ]
    }
   ],
   "source": [
    "! unzip \"data/ml-20m.zip\" -d \"data/\""
   ]
  },
  {
   "cell_type": "code",
   "execution_count": 4,
   "metadata": {},
   "outputs": [],
   "source": [
    "# Reading data from csv files\n",
    "movies = pd.read_csv('data/ml-20m/movies.csv')\n",
    "ratings = pd.read_csv('data/ml-20m/ratings.csv', chunksize=1000000)\n",
    "tags = pd.read_csv('data/ml-20m/tags.csv')"
   ]
  },
  {
   "cell_type": "code",
   "execution_count": 5,
   "metadata": {},
   "outputs": [
    {
     "name": "stdout",
     "output_type": "stream",
     "text": [
      "\n",
      "Ratings Data :\n",
      "shape :  (1000000, 4)\n",
      "   userId  movieId  rating   timestamp\n",
      "0       1        2     3.5  1112486027\n",
      "1       1       29     3.5  1112484676\n",
      "2       1       32     3.5  1112484819\n",
      "3       1       47     3.5  1112484727\n",
      "4       1       50     3.5  1112484580\n"
     ]
    }
   ],
   "source": [
    "for i, r in enumerate(ratings):\n",
    "\n",
    "    print(\"\\nRatings Data :\")\n",
    "    print(\"shape : \", r.shape)\n",
    "    print(r.head())\n",
    "    break"
   ]
  },
  {
   "cell_type": "code",
   "execution_count": 6,
   "metadata": {},
   "outputs": [
    {
     "name": "stdout",
     "output_type": "stream",
     "text": [
      "\n",
      "Movies Data :\n",
      "shape :  (27278, 3)\n",
      "   movieId                               title  \\\n",
      "0        1                    Toy Story (1995)   \n",
      "1        2                      Jumanji (1995)   \n",
      "2        3             Grumpier Old Men (1995)   \n",
      "3        4            Waiting to Exhale (1995)   \n",
      "4        5  Father of the Bride Part II (1995)   \n",
      "\n",
      "                                        genres  \n",
      "0  Adventure|Animation|Children|Comedy|Fantasy  \n",
      "1                   Adventure|Children|Fantasy  \n",
      "2                               Comedy|Romance  \n",
      "3                         Comedy|Drama|Romance  \n",
      "4                                       Comedy  \n"
     ]
    }
   ],
   "source": [
    "print(\"\\nMovies Data :\")\n",
    "print(\"shape : \", movies.shape)\n",
    "print(movies.head())"
   ]
  },
  {
   "cell_type": "code",
   "execution_count": null,
   "metadata": {},
   "outputs": [],
   "source": [
    "from scipy.sparse import csr_matrix\n",
    "import pandas as pd\n",
    "\n",
    "# Define a function to read the ratings.csv file in chunks\n",
    "def read_ratings_file(filename, chunksize):\n",
    "    for chunk in pd.read_csv(filename, chunksize=chunksize):\n",
    "        yield chunk\n",
    "\n",
    "# Initialize an empty list to store the user-movie matrices\n",
    "user_movies_data = []\n",
    "\n",
    "# Iterate over the chunks of the ratings dataframe\n",
    "for chunk in read_ratings_file('data/ml-20m/ratings.csv', chunksize=100000):\n",
    "    # Pivot the chunk into a user-movie matrix\n",
    "    mat = chunk.pivot(index = 'movieId', columns = 'userId', values = 'rating').fillna(0)\n",
    "    # Add the matrix to the list\n",
    "    if mat.shape[1] > 0:\n",
    "        user_movies_data.append(mat)\n",
    "\n",
    "# Check that the list is not empty before concatenating the matrices\n",
    "if len(user_movies_data) > 0:\n",
    "    # Concatenate the matrices in the list along the movie axis\n",
    "    ser_movies_data = csr_matrix(np.concatenate(user_movies_data, axis=1))\n",
    "else:\n",
    "    # If the list is empty, create an empty matrix\n",
    "    ser_movies_data = csr_matrix((0, 0))\n",
    "\n",
    "# Convert the sparse matrix to a dataframe\n",
    "df_movies = pd.DataFrame.sparse.from_spmatrix(ser_movies_data)\n"
   ]
  },
  {
   "cell_type": "code",
   "execution_count": 9,
   "metadata": {},
   "outputs": [
    {
     "name": "stderr",
     "output_type": "stream",
     "text": [
      "/tmp/ipykernel_13159/1396438938.py:8: FutureWarning: The frame.append method is deprecated and will be removed from pandas in a future version. Use pandas.concat instead.\n",
      "  data = data.append(chunk)\n",
      "/tmp/ipykernel_13159/1396438938.py:8: FutureWarning: The frame.append method is deprecated and will be removed from pandas in a future version. Use pandas.concat instead.\n",
      "  data = data.append(chunk)\n",
      "/tmp/ipykernel_13159/1396438938.py:8: FutureWarning: The frame.append method is deprecated and will be removed from pandas in a future version. Use pandas.concat instead.\n",
      "  data = data.append(chunk)\n",
      "/tmp/ipykernel_13159/1396438938.py:8: FutureWarning: The frame.append method is deprecated and will be removed from pandas in a future version. Use pandas.concat instead.\n",
      "  data = data.append(chunk)\n",
      "/tmp/ipykernel_13159/1396438938.py:8: FutureWarning: The frame.append method is deprecated and will be removed from pandas in a future version. Use pandas.concat instead.\n",
      "  data = data.append(chunk)\n",
      "/tmp/ipykernel_13159/1396438938.py:8: FutureWarning: The frame.append method is deprecated and will be removed from pandas in a future version. Use pandas.concat instead.\n",
      "  data = data.append(chunk)\n",
      "/tmp/ipykernel_13159/1396438938.py:8: FutureWarning: The frame.append method is deprecated and will be removed from pandas in a future version. Use pandas.concat instead.\n",
      "  data = data.append(chunk)\n",
      "/tmp/ipykernel_13159/1396438938.py:8: FutureWarning: The frame.append method is deprecated and will be removed from pandas in a future version. Use pandas.concat instead.\n",
      "  data = data.append(chunk)\n",
      "/tmp/ipykernel_13159/1396438938.py:8: FutureWarning: The frame.append method is deprecated and will be removed from pandas in a future version. Use pandas.concat instead.\n",
      "  data = data.append(chunk)\n",
      "/tmp/ipykernel_13159/1396438938.py:8: FutureWarning: The frame.append method is deprecated and will be removed from pandas in a future version. Use pandas.concat instead.\n",
      "  data = data.append(chunk)\n",
      "/tmp/ipykernel_13159/1396438938.py:8: FutureWarning: The frame.append method is deprecated and will be removed from pandas in a future version. Use pandas.concat instead.\n",
      "  data = data.append(chunk)\n",
      "/tmp/ipykernel_13159/1396438938.py:8: FutureWarning: The frame.append method is deprecated and will be removed from pandas in a future version. Use pandas.concat instead.\n",
      "  data = data.append(chunk)\n",
      "/tmp/ipykernel_13159/1396438938.py:8: FutureWarning: The frame.append method is deprecated and will be removed from pandas in a future version. Use pandas.concat instead.\n",
      "  data = data.append(chunk)\n",
      "/tmp/ipykernel_13159/1396438938.py:8: FutureWarning: The frame.append method is deprecated and will be removed from pandas in a future version. Use pandas.concat instead.\n",
      "  data = data.append(chunk)\n",
      "/tmp/ipykernel_13159/1396438938.py:8: FutureWarning: The frame.append method is deprecated and will be removed from pandas in a future version. Use pandas.concat instead.\n",
      "  data = data.append(chunk)\n",
      "/tmp/ipykernel_13159/1396438938.py:8: FutureWarning: The frame.append method is deprecated and will be removed from pandas in a future version. Use pandas.concat instead.\n",
      "  data = data.append(chunk)\n",
      "/tmp/ipykernel_13159/1396438938.py:8: FutureWarning: The frame.append method is deprecated and will be removed from pandas in a future version. Use pandas.concat instead.\n",
      "  data = data.append(chunk)\n",
      "/tmp/ipykernel_13159/1396438938.py:8: FutureWarning: The frame.append method is deprecated and will be removed from pandas in a future version. Use pandas.concat instead.\n",
      "  data = data.append(chunk)\n",
      "/tmp/ipykernel_13159/1396438938.py:8: FutureWarning: The frame.append method is deprecated and will be removed from pandas in a future version. Use pandas.concat instead.\n",
      "  data = data.append(chunk)\n",
      "/tmp/ipykernel_13159/1396438938.py:8: FutureWarning: The frame.append method is deprecated and will be removed from pandas in a future version. Use pandas.concat instead.\n",
      "  data = data.append(chunk)\n"
     ]
    },
    {
     "name": "stdout",
     "output_type": "stream",
     "text": [
      "Training set: 15200210 ratings\n",
      "Testing set: 3800053 ratings\n"
     ]
    }
   ],
   "source": [
    "from sklearn.model_selection import train_test_split\n",
    "\n",
    "\n",
    "# Create an empty DataFrame to store the chunks\n",
    "data = pd.DataFrame()\n",
    "\n",
    "for chunk in ratings:\n",
    "    data = data.append(chunk)\n",
    "# Split the ratings data into training and testing sets\n",
    "train_ratings, test_ratings = train_test_split(data, test_size=0.2, random_state=42)\n",
    "\n",
    "# Print the number of movies in each set\n",
    "print(f'Training set: {len(train_ratings)} ratings')\n",
    "print(f'Testing set: {len(test_ratings)} ratings')"
   ]
  },
  {
   "cell_type": "code",
   "execution_count": 10,
   "metadata": {},
   "outputs": [
    {
     "data": {
      "text/plain": [
       "((15200210, 4), (3800053, 4))"
      ]
     },
     "execution_count": 10,
     "metadata": {},
     "output_type": "execute_result"
    }
   ],
   "source": [
    "train_ratings.shape, test_ratings.shape"
   ]
  },
  {
   "cell_type": "code",
   "execution_count": 8,
   "metadata": {},
   "outputs": [],
   "source": [
    "n_items = data.movieId.unique().shape[0]\n",
    "n_items"
   ]
  },
  {
   "cell_type": "code",
   "execution_count": 13,
   "metadata": {},
   "outputs": [
    {
     "ename": "",
     "evalue": "",
     "output_type": "error",
     "traceback": [
      "\u001b[1;31mCanceled future for execute_request message before replies were done"
     ]
    },
    {
     "ename": "",
     "evalue": "",
     "output_type": "error",
     "traceback": [
      "\u001b[1;31mThe Kernel crashed while executing code in the the current cell or a previous cell. Please review the code in the cell(s) to identify a possible cause of the failure. Click <a href='https://aka.ms/vscodeJupyterKernelCrash'>here</a> for more info. View Jupyter <a href='command:jupyter.viewOutput'>log</a> for further details."
     ]
    }
   ],
   "source": [
    "from scipy.sparse import csr_matrix\n",
    "\n",
    "# user_movies_data = ratings.pivot(index = 'movieId', columns = 'userId', values = 'rating').fillna(0)\n",
    "\n",
    "# Create an empty dataframe to store the results\n",
    "user_movies_data = []\n",
    "\n",
    "ratings = pd.read_csv('data/ml-20m/ratings.csv', chunksize=100000)\n",
    "# Loop over the ratings file in batches\n",
    "for chunk in ratings:\n",
    "    # Pivot the chunk into a user-movie matrix\n",
    "    mat = chunk.pivot(index = 'movieId', columns = 'userId', values = 'rating').fillna(0)\n",
    "    # Add the matrix to the list\n",
    "    if mat.shape[1] > 0:\n",
    "        user_movies_data.append(mat)\n",
    "\n",
    "# Check that the list is not empty before concatenating the matrices\n",
    "if len(user_movies_data) > 0:\n",
    "    # Concatenate the matrices in the list along the movie axis\n",
    "    ser_movies_data = csr_matrix(np.concatenate(user_movies_data, axis=1))\n",
    "else:\n",
    "    # If the list is empty, create an empty matrix\n",
    "    ser_movies_data = csr_matrix((0, 0))\n",
    "    \n",
    "# Convert the sparse matrix to a dataframe\n",
    "df_movies = pd.DataFrame.sparse.from_spmatrix(ser_movies_data)\n",
    "\n",
    "# Print the resulting dataframe\n",
    "print(df_movies)\n"
   ]
  },
  {
   "cell_type": "code",
   "execution_count": 19,
   "metadata": {},
   "outputs": [
    {
     "ename": "",
     "evalue": "",
     "output_type": "error",
     "traceback": [
      "\u001b[1;31mCanceled future for execute_request message before replies were done"
     ]
    },
    {
     "ename": "",
     "evalue": "",
     "output_type": "error",
     "traceback": [
      "\u001b[1;31mThe Kernel crashed while executing code in the the current cell or a previous cell. Please review the code in the cell(s) to identify a possible cause of the failure. Click <a href='https://aka.ms/vscodeJupyterKernelCrash'>here</a> for more info. View Jupyter <a href='command:jupyter.viewOutput'>log</a> for further details."
     ]
    }
   ],
   "source": [
    "import dask.dataframe as dd\n",
    "from scipy.sparse import csr_matrix\n",
    "\n",
    "# Load the ratings dataset into a Dask dataframe\n",
    "ratings = dd.read_csv('data/ml-20m/ratings.csv')\n",
    "\n",
    "# Convert userId to categorical data type\n",
    "# Convert the userId and movieId columns to categorical data type\n",
    "ratings['userId'] = ratings['userId'].astype('category')\n",
    "ratings['userId'] = ratings['userId'].cat.as_known()\n",
    "# ratings['movieId'] = ratings['movieId'].astype('category')\n",
    "\n",
    "# Pivot the ratings dataframe into a user-movie matrix\n",
    "ser_movies_data = ratings.pivot_table(index='movieId', columns='userId', values='rating').fillna(0)\n",
    "\n",
    "# Convert the sparse matrix to a dataframe\n",
    "df_movies = ser_movies_data.compute().to_frame().reset_index()\n"
   ]
  },
  {
   "cell_type": "code",
   "execution_count": 12,
   "metadata": {},
   "outputs": [
    {
     "name": "stderr",
     "output_type": "stream",
     "text": [
      "your 131072x1 screen size is bogus. expect trouble\n"
     ]
    },
    {
     "name": "stdout",
     "output_type": "stream",
     "text": [
      "23/03/25 20:59:12 WARN Utils: Your hostname, iretex resolves to a loopback address: 127.0.1.1; using 172.24.9.122 instead (on interface eth0)\n",
      "23/03/25 20:59:12 WARN Utils: Set SPARK_LOCAL_IP if you need to bind to another address\n"
     ]
    },
    {
     "name": "stderr",
     "output_type": "stream",
     "text": [
      "Setting default log level to \"WARN\".\n",
      "To adjust logging level use sc.setLogLevel(newLevel). For SparkR, use setLogLevel(newLevel).\n"
     ]
    },
    {
     "name": "stdout",
     "output_type": "stream",
     "text": [
      "23/03/25 20:59:14 WARN NativeCodeLoader: Unable to load native-hadoop library for your platform... using builtin-java classes where applicable\n"
     ]
    }
   ],
   "source": [
    "from pyspark.sql.functions import collect_list\n",
    "from pyspark.ml.feature import StringIndexer\n",
    "from pyspark.ml.feature import IndexToString\n",
    "from pyspark.ml.recommendation import ALS\n",
    "from pyspark.sql import SparkSession\n",
    "\n",
    "# Create a Spark session\n",
    "spark = SparkSession.builder.appName('movie-recommendation').getOrCreate()"
   ]
  },
  {
   "cell_type": "code",
   "execution_count": null,
   "metadata": {},
   "outputs": [],
   "source": [
    "from pyspark.sql.functions import monotonically_increasing_id\n",
    "from pyspark.sql.functions import col\n",
    "\n",
    "# Read the ratings file into a Spark dataframe\n",
    "ratings = spark.read.format('csv').option('header', 'true').load('data/ml-20m/ratings.csv')\n",
    "\n",
    "# Convert the userId and movieId columns to integer type\n",
    "ratings = ratings.withColumn('userId', ratings['userId'].cast('int')) \\\n",
    "                 .withColumn('movieId', ratings['movieId'].cast('int'))\n",
    "\n",
    "# Create a unique list of movieIds\n",
    "movie_ids = ratings.select('movieId').distinct()\n",
    "\n",
    "# Create a dictionary of movieIds with integer keys\n",
    "# movie_dict = dict([(row['movieId'], row['movie_idx']) for row in movie_ids.rdd.zipWithIndex().map(lambda x: (x[0][0], x[1])).collect()])\n",
    "\n",
    "# Create a dictionary of movieIds with integer keys\n",
    "movie_dict = ratings.select('movieId').distinct() \\\n",
    "    .withColumn('movie_idx', monotonically_increasing_id()) \\\n",
    "    .rdd \\\n",
    "    .map(lambda x: (x['movieId'], x['movie_idx'])) \\\n",
    "    .collectAsMap()\n",
    "\n",
    "# Add a new column to the ratings dataframe with the integer movieIds\n",
    "ratings = ratings.rdd \\\n",
    "    .map(lambda x: (x['userId'], movie_dict[x['movieId']], x['rating'])) \\\n",
    "    .toDF(['userId', 'movieId', 'rating'])\n",
    "\n",
    "# # Add a new column to the ratings dataframe with the integer movieIds\n",
    "# ratings = ratings.rdd.map(lambda x: (x['userId'], movie_dict[x['movieId']], x['rating'])).toDF(['userId', 'movieId', 'rating'])\n",
    "\n",
    "# Initialize an ALS model\n",
    "als = ALS(rank=10, maxIter=10, seed=42, regParam=0.1, userCol='userId', itemCol='movieId', ratingCol='rating')\n",
    "\n",
    "ratings = ratings.withColumn('rating', col('rating').cast('float'))\n",
    "\n",
    "# Train the ALS model on the ratings dataframe\n",
    "model = als.fit(ratings)\n",
    "\n",
    "# Get the user factors from the model\n",
    "user_factors = model.userFactors\n",
    "\n",
    "# Convert the user factors to a Pandas dataframe\n",
    "df_users = user_factors.toPandas()\n",
    "\n",
    "# Rename the id column to userId\n",
    "df_users = df_users.rename(columns={'id': 'userId'})\n",
    "\n",
    "# Convert the movieId column to integer type\n",
    "df_users['movieId'] = df_users['movieId'].astype(int)\n",
    "\n",
    "# Convert the dataframe to a user-movie matrix\n",
    "ser_movies_data = df_users.pivot(index='movieId', columns='userId', values='features').fillna(0)\n",
    "\n",
    "# Convert the sparse matrix to a dataframe\n",
    "df_movies = pd.DataFrame.sparse.from_spmatrix(csr_matrix(ser_movies_data))\n"
   ]
  },
  {
   "cell_type": "markdown",
   "metadata": {},
   "source": [
    "This code defines a generator function read_ratings_file that reads the ratings file in chunks and yields each chunk one at a time. The for loop in the main code block then iterates over the generator, processing each chunk one at a time without loading the entire file into memory at once. This approach can be more memory-efficient and can prevent kernel crashes due to memory limitations."
   ]
  },
  {
   "attachments": {},
   "cell_type": "markdown",
   "metadata": {},
   "source": [
    "# Popularity-Based Recommender\n",
    "Popularity-based recommender system suggests the most popular items to all users. It is a non-personalized recommendation system."
   ]
  },
  {
   "cell_type": "code",
   "execution_count": null,
   "metadata": {},
   "outputs": [],
   "source": [
    "# Grouping movies by popularity based on the number of ratings they have received\n",
    "popularity_df = pd.DataFrame(ratings.groupby('movieId')['rating'].count())\n",
    "popularity_df.columns = ['popularity']\n",
    "popularity_df['movieId'] = popularity_df.index\n",
    "\n",
    "# Joining popularity_df with movies_df to get movie titles and genres\n",
    "popularity_df = popularity_df.merge(movies_df[['movieId', 'title', 'genres']], on='movieId', how='left')\n",
    "\n",
    "# Sorting movies by popularity and selecting top 10\n",
    "popular_movies = popularity_df.sort_values('popularity', ascending=False).head(10)\n"
   ]
  },
  {
   "attachments": {},
   "cell_type": "markdown",
   "metadata": {},
   "source": [
    "# Content-Based Recommender\n",
    "Content-based recommender system suggests items similar to the ones a user has liked in the past. It uses the item features to make recommendations."
   ]
  },
  {
   "cell_type": "code",
   "execution_count": null,
   "metadata": {},
   "outputs": [],
   "source": [
    "# Merging movies and tags data to get metadata for content-based recommendation\n",
    "metadata_df = pd.DataFrame(tags_df.groupby('movieId')['tag'].apply(lambda x: \"%s\" % ' '.join(x)))\n",
    "metadata_df['movieId'] = metadata_df.index\n",
    "\n",
    "# Joining metadata_df with movies_df to get movie titles and genres\n",
    "metadata_df = metadata_df.merge(movies_df[['movieId', 'title', 'genres']], on='movieId', how='left')\n",
    "\n",
    "# Creating a TfidfVectorizer model and fitting it on the tag data\n",
    "tfidf = TfidfVectorizer(stop_words='english')\n",
    "tfidf_matrix = tfidf.fit_transform(metadata_df['tag'])\n",
    "\n",
    "# Creating a TruncatedSVD model and fitting it on the tfidf_matrix\n",
    "svd = TruncatedSVD(n_components=50)\n",
    "latent_matrix = svd.fit_transform(tfidf_matrix)\n",
    "\n",
    "# Converting the latent matrix into a dataframe\n",
    "latent_df = pd.DataFrame(latent_matrix, index=metadata_df['title'].tolist())\n",
    "\n",
    "# Helper function to get similar movies using content-based filtering\n",
    "def get_similar_movies(movie_title, n=10):\n",
    "    movie_index = latent_df.index.tolist().index(movie_title)\n",
    "    movie_row = np.array(latent_df.iloc[movie_index]).reshape(1, -1)\n",
    "    similarities = cosine_similarity(latent_matrix, movie_row).flatten()\n",
    "    similar_indices = similarities.argsort()[:-n-1:-1]\n",
    "    similar_movies = [(metadata_df['title'][i], similarities[i]) for i in similar_indices]\n",
    "    return similar_movies\n"
   ]
  },
  {
   "attachments": {},
   "cell_type": "markdown",
   "metadata": {},
   "source": [
    "# Collaborative Filtering Recommender\n",
    "Collaborative filtering recommender system suggests items based on the past behavior of similar users. It uses user-item interaction data to make recommendations."
   ]
  },
  {
   "cell_type": "code",
   "execution_count": null,
   "metadata": {},
   "outputs": [],
   "source": [
    "import pandas as pd\n",
    "import numpy as np\n",
    "import turicreate as tc\n",
    "from sklearn.feature_extraction.text import TfidfVectorizer\n",
    "from sklearn.decomposition import TruncatedSVD\n",
    "from surprise import Dataset, Reader, SVD, GridSearch\n",
    "from surprise import accuracy\n",
    "\n",
    "# Reading the movies data\n",
    "movies_df = pd.read_csv('movies.csv')\n",
    "movies_df['year'] = movies_df['title'].str.extract('\\((\\d{4})\\)', expand=False)\n",
    "movies_df['title'] = movies_df['title'].str.replace('(\\(\\d{4}\\))', '').apply(lambda x: x.strip())\n",
    "movies_df = movies_df.drop('genres', axis=1)\n",
    "\n",
    "# Reading the ratings data\n",
    "ratings_df = pd.read_csv('ratings.csv')\n",
    "\n",
    "# Reading the tags data\n",
    "tags_df = pd.read_csv('tags.csv')\n",
    "tags_df['tag'] = tags_df['tag'].str.lower()\n",
    "tags_df = tags_df.groupby(['movieId'])['tag'].apply(' '.join).reset_index()\n",
    "\n",
    "# Popularity Recommender\n",
    "\n",
    "# Helper function to get top rated movies\n",
    "def get_top_rated_movies(n=10):\n",
    "    top_rated_movies = movies_df.sort_values('rating', ascending=False)[['title', 'year', 'rating']][:n]\n",
    "    return top_rated_movies\n",
    "\n",
    "# Getting top rated movies\n",
    "top_rated_movies = get_top_rated_movies()\n",
    "\n",
    "# Content-Based Recommender\n",
    "\n",
    "# Creating a metadata column from the tags data\n",
    "movies_df = pd.merge(movies_df, tags_df, on='movieId', how='left')\n",
    "movies_df['metadata'] = movies_df.apply(lambda x: ' '.join(x['tag'].split(' ') + [x['title']] + [x['year']]), axis=1)\n",
    "\n",
    "# Creating a TF-IDF vectorizer and TruncatedSVD model\n",
    "tfidf = TfidfVectorizer(stop_words='english')\n",
    "svd = TruncatedSVD(n_components=100)\n",
    "\n",
    "# Fitting the vectorizer and SVD model on the metadata column\n",
    "metadata_tfidf = tfidf.fit_transform(movies_df['metadata'])\n",
    "metadata_svd = svd.fit_transform(metadata_tfidf)\n",
    "\n",
    "# Helper function to get similar movies using content filtering\n",
    "def get_similar_movies(title, n=10):\n",
    "    # Finding the index of the movie\n",
    "    index = movies_df[movies_df['title'] == title].index[0]\n",
    "\n",
    "    # Getting the cosine similarity between the movie and all other movies\n",
    "    cosine_similarities = np.dot(metadata_svd[index], metadata_svd.T)\n",
    "\n",
    "    # Getting the top n similar movies\n",
    "    similar_indices = cosine_similarities.argsort()[::-1][:n+1]\n",
    "    similar_movies = [(movies_df.iloc[i]['title'], cosine_similarities[i]) for i in similar_indices if i != index]\n",
    "    return similar_movies[:n]\n",
    "\n",
    "# Helper function to get recommended movies using content filtering\n",
    "def get_content_recommendations(title, n=10):\n",
    "    recommendations = get_similar_movies(title, n=n)\n",
    "    recommended_movies = [recommendation[0] for recommendation in recommendations]\n",
    "    return recommended_movies\n",
    "\n",
    "# Collaborative Filtering Recommender\n",
    "\n",
    "# Creating a pivot table of the ratings data\n",
    "user_movie_matrix = ratings_df.pivot_table(index='userId', columns='movieId', values='rating')\n",
    "\n",
    "# Filling missing values with 0\n",
    "user_movie_matrix = user_movie_matrix.fillna(0)\n",
    "\n",
    "# Creating a Turicreate SFrame from the user-movie matrix\n",
    "tc_user_movie_matrix = tc.SFrame(user_movie_matrix)\n",
    "\n",
    "# Creating a factorization recomm\n"
   ]
  }
 ],
 "metadata": {
  "kernelspec": {
   "display_name": "env",
   "language": "python",
   "name": "python3"
  },
  "language_info": {
   "codemirror_mode": {
    "name": "ipython",
    "version": 3
   },
   "file_extension": ".py",
   "mimetype": "text/x-python",
   "name": "python",
   "nbconvert_exporter": "python",
   "pygments_lexer": "ipython3",
   "version": "3.8.16"
  },
  "orig_nbformat": 4
 },
 "nbformat": 4,
 "nbformat_minor": 2
}
