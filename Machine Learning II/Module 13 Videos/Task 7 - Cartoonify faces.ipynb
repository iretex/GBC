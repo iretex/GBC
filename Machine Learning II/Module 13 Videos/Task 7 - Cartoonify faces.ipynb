{
 "cells": [
  {
   "attachments": {},
   "cell_type": "markdown",
   "metadata": {},
   "source": [
    "This task tests your ability to apply Video processing and Face detection techniques to place a cartoon mask instead of your face in the video.\n",
    "\n",
    "\n",
    "\n",
    "Please take the help of the attached notebook which contains the helper code to detect faces from webcam video.\n",
    "\n",
    "\n",
    "\n",
    "Submit\n",
    "\n",
    "1. Python Notebook (IPYNB)\n",
    "\n",
    "2. Cartoon mask (JPG/PNG)\n",
    "\n",
    "3. Video (wav/mp3) OR Screenshot Image (JPG/PNG)\n",
    "\n",
    "\n",
    "\n",
    "All the best and have fun learning."
   ]
  },
  {
   "attachments": {},
   "cell_type": "markdown",
   "metadata": {},
   "source": [
    "Import required libraries"
   ]
  },
  {
   "cell_type": "code",
   "execution_count": 6,
   "metadata": {},
   "outputs": [
    {
     "name": "stdout",
     "output_type": "stream",
     "text": [
      "^C\n",
      "Note: you may need to restart the kernel to use updated packages.\n"
     ]
    }
   ],
   "source": [
    "pip uninstall opencv-python==4.5.3.56\n"
   ]
  },
  {
   "cell_type": "code",
   "execution_count": 3,
   "metadata": {},
   "outputs": [],
   "source": [
    "import cv2\n",
    "import numpy as np\n",
    "import os"
   ]
  },
  {
   "attachments": {},
   "cell_type": "markdown",
   "metadata": {},
   "source": [
    "Load the face detection classifier XML file"
   ]
  },
  {
   "cell_type": "code",
   "execution_count": 4,
   "metadata": {},
   "outputs": [],
   "source": [
    "cascPathface = os.path.dirname(\n",
    "    cv2.__file__) + \"/data/haarcascade_frontalface_alt2.xml\"\n",
    "cascPatheyes = os.path.dirname(\n",
    "    cv2.__file__) + \"/data/haarcascade_eye_tree_eyeglasses.xml\"\n",
    "\n",
    "faceCascade = cv2.CascadeClassifier(cascPathface)\n",
    "eyeCascade = cv2.CascadeClassifier(cascPatheyes)"
   ]
  },
  {
   "attachments": {},
   "cell_type": "markdown",
   "metadata": {},
   "source": [
    "Start the video capture"
   ]
  },
  {
   "cell_type": "code",
   "execution_count": 5,
   "metadata": {},
   "outputs": [],
   "source": [
    "cap = cv2.VideoCapture(0)"
   ]
  },
  {
   "cell_type": "code",
   "execution_count": 1,
   "metadata": {},
   "outputs": [
    {
     "ename": "error",
     "evalue": "OpenCV(4.5.4) D:\\a\\opencv-python\\opencv-python\\opencv\\modules\\objdetect\\src\\cascadedetect.cpp:1689: error: (-215:Assertion failed) !empty() in function 'cv::CascadeClassifier::detectMultiScale'\n",
     "output_type": "error",
     "traceback": [
      "\u001b[1;31m---------------------------------------------------------------------------\u001b[0m",
      "\u001b[1;31merror\u001b[0m                                     Traceback (most recent call last)",
      "Cell \u001b[1;32mIn[1], line 26\u001b[0m\n\u001b[0;32m     24\u001b[0m \u001b[39m# Apply face detection to the frame\u001b[39;00m\n\u001b[0;32m     25\u001b[0m gray \u001b[39m=\u001b[39m cv2\u001b[39m.\u001b[39mcvtColor(frame, cv2\u001b[39m.\u001b[39mCOLOR_BGR2GRAY)\n\u001b[1;32m---> 26\u001b[0m faces \u001b[39m=\u001b[39m face_cascade\u001b[39m.\u001b[39;49mdetectMultiScale(gray, \u001b[39m1.3\u001b[39;49m, \u001b[39m5\u001b[39;49m)\n\u001b[0;32m     28\u001b[0m \u001b[39m# Loop through each detected face\u001b[39;00m\n\u001b[0;32m     29\u001b[0m \u001b[39mfor\u001b[39;00m (x,y,w,h) \u001b[39min\u001b[39;00m faces:\n\u001b[0;32m     30\u001b[0m     \u001b[39m# Create a mask for the face\u001b[39;00m\n",
      "\u001b[1;31merror\u001b[0m: OpenCV(4.5.4) D:\\a\\opencv-python\\opencv-python\\opencv\\modules\\objdetect\\src\\cascadedetect.cpp:1689: error: (-215:Assertion failed) !empty() in function 'cv::CascadeClassifier::detectMultiScale'\n"
     ]
    }
   ],
   "source": [
    "\n",
    "\n",
    "\n",
    "\n",
    "# Load the cartoon mask image\n",
    "cartoon_mask = cv2.imread('cartoon_mask.png')\n",
    "\n",
    "# Define the scaling factor for the mask\n",
    "mask_scale = 1.5\n",
    "\n",
    "# Define the video codec and output file name\n",
    "fourcc = cv2.VideoWriter_fourcc(*'XVID')\n",
    "out = cv2.VideoWriter('output.avi', fourcc, 20.0, (640,480))\n",
    "\n",
    "while True:\n",
    "    # Capture each frame of the video\n",
    "    ret, frame = cap.read()\n",
    "    \n",
    "    # Apply face detection to the frame\n",
    "    gray = cv2.cvtColor(frame, cv2.COLOR_BGR2GRAY)\n",
    "    faces = face_cascade.detectMultiScale(gray, 1.3, 5)\n",
    "    \n",
    "    # Loop through each detected face\n",
    "    for (x,y,w,h) in faces:\n",
    "        # Create a mask for the face\n",
    "        mask = np.zeros(frame.shape[:2], dtype=np.uint8)\n",
    "        cv2.ellipse(mask, ((x+w)//2, (y+h)//2), ((w//2), (h//2)), 0, 0, 360, 255, -1)\n",
    "        mask = cv2.resize(mask, (int(w*mask_scale), int(h*mask_scale)))\n",
    "        \n",
    "        # Resize the cartoon mask to fit the face\n",
    "        cartoon_mask_resized = cv2.resize(cartoon_mask, (mask.shape[1], mask.shape[0]))\n",
    "        \n",
    "        # Blend the cartoon mask and the original frame\n",
    "        mask_inv = cv2.bitwise_not(mask)\n",
    "        img_bg = cv2.bitwise_and(frame, frame, mask=mask_inv)\n",
    "        img_fg = cv2.bitwise_and(cartoon_mask_resized, cartoon_mask_resized, mask=mask)\n",
    "        blended = cv2.addWeighted(img_bg, 1, img_fg, 0.5, 0)\n",
    "        frame[y:y+h, x:x+w] = blended\n",
    "        \n",
    "    # Show the final output\n",
    "    cv2.imshow('frame', frame)\n",
    "    \n",
    "    # Write the output frame to the video file\n",
    "    out.write(frame)\n",
    "    \n",
    "    # Press 'q' to exit\n",
    "    if cv2.waitKey(1) & 0xFF == ord('q'):\n",
    "        break\n",
    "\n",
    "\n"
   ]
  },
  {
   "cell_type": "code",
   "execution_count": 1,
   "metadata": {},
   "outputs": [
    {
     "ename": "NameError",
     "evalue": "name 'cv2' is not defined",
     "output_type": "error",
     "traceback": [
      "\u001b[1;31m---------------------------------------------------------------------------\u001b[0m",
      "\u001b[1;31mNameError\u001b[0m                                 Traceback (most recent call last)",
      "Cell \u001b[1;32mIn[1], line 4\u001b[0m\n\u001b[0;32m      1\u001b[0m \u001b[39m# Release the video capture and close all windows\u001b[39;00m\n\u001b[0;32m      2\u001b[0m \u001b[39m# cap.release()\u001b[39;00m\n\u001b[0;32m      3\u001b[0m \u001b[39m# out.release()\u001b[39;00m\n\u001b[1;32m----> 4\u001b[0m cv2\u001b[39m.\u001b[39mdestroyAllWindows()\n",
      "\u001b[1;31mNameError\u001b[0m: name 'cv2' is not defined"
     ]
    }
   ],
   "source": [
    "# Release the video capture and close all windows\n",
    "# cap.release()\n",
    "# out.release()\n",
    "cv2.destroyAllWindows()"
   ]
  }
 ],
 "metadata": {
  "kernelspec": {
   "display_name": "env",
   "language": "python",
   "name": "python3"
  },
  "language_info": {
   "codemirror_mode": {
    "name": "ipython",
    "version": 3
   },
   "file_extension": ".py",
   "mimetype": "text/x-python",
   "name": "python",
   "nbconvert_exporter": "python",
   "pygments_lexer": "ipython3",
   "version": "3.10.10"
  },
  "orig_nbformat": 4
 },
 "nbformat": 4,
 "nbformat_minor": 2
}
