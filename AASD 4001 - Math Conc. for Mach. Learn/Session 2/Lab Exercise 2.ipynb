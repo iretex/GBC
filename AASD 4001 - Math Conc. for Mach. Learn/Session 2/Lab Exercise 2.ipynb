{
 "cells": [
  {
   "attachments": {},
   "cell_type": "markdown",
   "metadata": {},
   "source": [
    "**Lab Exercise 2:**\n",
    "\n",
    "## Name: Iretioluwa Olawuyi\n",
    "\n",
    "1. \n",
    "Consider a deck of 52 cards (4 suits of Hearts, Spades, Clubs, and Diamonds). Answer the following questions.\n",
    "\n",
    "A card is drawn. Find the probability of:\n",
    "- ‘4’ of Hearts\n",
    "- a jack\n",
    "- a king of red color\n",
    "- a card of diamond\n",
    "- a non-ace"
   ]
  },
  {
   "attachments": {},
   "cell_type": "markdown",
   "metadata": {},
   "source": [
    "According to the theory of probability, the probability or likelihood of an event occurring is given by:\n",
    "\n",
    "$\\dfrac{No. of Successful outcomes}{No. of possible outcomes}$\n",
    "\n",
    "Applying this principle to the deck of card scenarios, the respective probabilities will be as follows;\n",
    "\n",
    "- **\"4\" of Hearts**: The probability of drawing a specific card, such as the 4 of Hearts, is $\\dfrac{1}{52} = 0.019$.\n",
    "\n",
    "- **A jack**: There are 4 jacks in a deck of 52 cards which represent the number of successful outcomes, therefore the probability of drawing a jack is $\\dfrac{4}{52} = 0.077$\n",
    "\n",
    "- **A king of red color**: There are 2 red kings (King of Hearts and King of Diamonds) in a deck of 52 cards, so the probability of drawing a red king is $\\dfrac{2}{52} = 0.038$.\n",
    "\n",
    "- **A card of diamond**: There are 13 diamonds in a deck of 52 cards, so the probability of drawing a diamond card is $\\dfrac{13}{52} = 0.250$.\n",
    "\n",
    "- **A non-ace**: There are 48 non-aces in a deck of 52 cards, so the probability of drawing a non-ace card is $\\dfrac{48}{52} = 0.923$."
   ]
  },
  {
   "attachments": {},
   "cell_type": "markdown",
   "metadata": {},
   "source": [
    "Two cards are drawn in a row, without replacing the first card in the deck. Find the probability of: \n",
    "- The first card is a king, the second card is a king too"
   ]
  },
  {
   "attachments": {},
   "cell_type": "markdown",
   "metadata": {},
   "source": [
    "The probability of the first card being a king is $\\dfrac{4}{52}$ (given that there are 4 kings in a deck of 52 cards). The probability of the second card being a king, given that the first card was not replaced and the first card was a king, is $\\dfrac{3}{51}$ (since we are told that the cards are drawn without replacement, there are now 51 cards remaining in the deck and 3 of them are kings).\n",
    "\n",
    "Therefore, the probability of the first card being a king and the second card being a king as well is:\n",
    "\n",
    "$\n",
    "\\dfrac{4}{52} \\times \\dfrac{3}{51}\n",
    " = 0.0045\n",
    "$"
   ]
  },
  {
   "attachments": {},
   "cell_type": "markdown",
   "metadata": {},
   "source": [
    "2. \n",
    "Consider a student applying to a college with 80% acceptance chance. The college dormitory will only be provided for 70% of all of the accepted students. What is the probability of the student being accepted and being provided with the dormitory?"
   ]
  },
  {
   "attachments": {},
   "cell_type": "markdown",
   "metadata": {},
   "source": [
    "The probability of the student being accepted and being provided with the dormitory is the probability of both events happening. This can be calculated as the product of the individual probabilities:\n",
    "\n",
    "$\n",
    "0.80 \\times 0.70 = 0.56\n",
    "$\n",
    "\n",
    "This implies that the student has a 56% chance of being accepted to the college and being provided with a dormitory at the same time."
   ]
  }
 ],
 "metadata": {
  "kernelspec": {
   "display_name": "env",
   "language": "python",
   "name": "python3"
  },
  "language_info": {
   "name": "python",
   "version": "3.10.9 (tags/v3.10.9:1dd9be6, Dec  6 2022, 20:01:21) [MSC v.1934 64 bit (AMD64)]"
  },
  "orig_nbformat": 4,
  "vscode": {
   "interpreter": {
    "hash": "029eba8808cf6bb5075612e7fa32d9484502cae5277bc072c902841db97b55a5"
   }
  }
 },
 "nbformat": 4,
 "nbformat_minor": 2
}
