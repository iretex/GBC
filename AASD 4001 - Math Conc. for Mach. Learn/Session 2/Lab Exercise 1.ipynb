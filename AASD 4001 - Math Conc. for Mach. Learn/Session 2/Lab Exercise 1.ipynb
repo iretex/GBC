{
 "cells": [
  {
   "cell_type": "markdown",
   "metadata": {},
   "source": [
    "<p style=\"font-family: Arial; font-size:3em;color:black;\"> Lab 1 </p>"
   ]
  },
  {
   "attachments": {},
   "cell_type": "markdown",
   "metadata": {},
   "source": [
    "Students name in this Group:\n",
    "\n",
    "## Name: Iretioluwa Olawuyi"
   ]
  },
  {
   "cell_type": "code",
   "execution_count": 30,
   "metadata": {},
   "outputs": [],
   "source": [
    "# importing numpy\n",
    "import numpy as np"
   ]
  },
  {
   "cell_type": "code",
   "execution_count": 16,
   "metadata": {},
   "outputs": [
    {
     "name": "stdout",
     "output_type": "stream",
     "text": [
      "Testing if all element of [1 2 3 5 0] are non-zero: False\n"
     ]
    }
   ],
   "source": [
    "# Create a numpy array with the elements \"1, 2, 3, 5, 0\", print the array and test if all of its elements are non-zero.\n",
    "arr = np.array([1, 2, 3, 5, 0])\n",
    "\n",
    "print(f\"Testing if all element of {arr} are non-zero: {arr.all()}\")"
   ]
  },
  {
   "cell_type": "code",
   "execution_count": 15,
   "metadata": {},
   "outputs": [
    {
     "name": "stdout",
     "output_type": "stream",
     "text": [
      "Testing if any element of [ 3 -1  3  7  2] is non-zero: True\n"
     ]
    }
   ],
   "source": [
    "# Create a numpy array with the elements \"3, -1, 3, 7, 2\", print the array and test if any of its elements is non-zero.\n",
    "arr = np.array([3, -1, 3, 7, 2])\n",
    "\n",
    "print(f\"Testing if any element of {arr} is non-zero: {arr.any()}\")"
   ]
  },
  {
   "cell_type": "code",
   "execution_count": 14,
   "metadata": {},
   "outputs": [
    {
     "name": "stdout",
     "output_type": "stream",
     "text": [
      "Testing if any element of [0 0 0 0] is non-zero: False\n"
     ]
    }
   ],
   "source": [
    "# Create a numpy array with the elements \"0, 0, 0, 0\", print the array and test if any of its elements is non-zero.\n",
    "arr = np.array([0, 0, 0, 0])\n",
    "\n",
    "print(f\"Testing if any element of {arr} is non-zero: {arr.any()}\")"
   ]
  },
  {
   "cell_type": "code",
   "execution_count": 13,
   "metadata": {},
   "outputs": [
    {
     "name": "stdout",
     "output_type": "stream",
     "text": [
      "Amount of memory required to store [56 -2  7] is: 12\n"
     ]
    }
   ],
   "source": [
    "# Create a numpy array with the elements \"56, -2, 7\", print the array and the amount of memory required to store it.\n",
    "arr = np.array([56, -2, 7])\n",
    "\n",
    "print(f\"Amount of memory required to store {arr} is: {arr.itemsize * arr.size}\")"
   ]
  },
  {
   "cell_type": "code",
   "execution_count": 18,
   "metadata": {},
   "outputs": [
    {
     "name": "stdout",
     "output_type": "stream",
     "text": [
      "Creating a Numpy array with 10 zeros: [0. 0. 0. 0. 0. 0. 0. 0. 0. 0.]\n",
      "Creating a Numpy array with 6 ones: [1. 1. 1. 1. 1. 1.]\n",
      "Creating a Numpy array with 12 '3's': [3. 3. 3. 3. 3. 3. 3. 3. 3. 3. 3. 3.]\n"
     ]
    }
   ],
   "source": [
    "# Create a numpy array with 10 zeros and print the array.\n",
    "print(f\"Creating a Numpy array with 10 zeros: {np.zeros(10)}\")\n",
    "\n",
    "# Create a numpy array with 6 ones and print the array.\n",
    "print(f\"Creating a Numpy array with 6 ones: {np.ones(6)}\")\n",
    "\n",
    "# Create a numpy array with 12 '3's and print the array. [3 3 3 3 3 3 3 3 3 3 3 3]\n",
    "print(f\"Creating a Numpy array with 12 '3's': {3*np.ones(12)}\")\n"
   ]
  },
  {
   "cell_type": "code",
   "execution_count": 21,
   "metadata": {},
   "outputs": [
    {
     "name": "stdout",
     "output_type": "stream",
     "text": [
      "Creating a Numpy array of integers from 8 to 20: [ 8  9 10 11 12 13 14 15 16 17 18 19 20]\n",
      "Creating a Numpy array of even integers from 8 to 20: [ 8 10 12 14 16 18 20]\n"
     ]
    }
   ],
   "source": [
    "# Create a numpy array of the integers from 8 to 20 and print the array. (make sure 20 itself is included) hint:  use \"arange\" method\n",
    "print(f\"Creating a Numpy array of integers from 8 to 20: {np.arange(8, 21)}\")\n",
    "\n",
    "# Create a numpy array of the even integers from 8 to 20 and print the array. (make sure 20 itself is included)   hint:  use \"arange\" method\n",
    "print(f\"Creating a Numpy array of even integers from 8 to 20: {np.arange(8, 21, 2)}\")\n"
   ]
  },
  {
   "cell_type": "code",
   "execution_count": 29,
   "metadata": {},
   "outputs": [
    {
     "name": "stdout",
     "output_type": "stream",
     "text": [
      "Creating a Numpy array of 100 random elements from normal dist with means of 2 and std of 0.5: \n",
      " mean: 1.9736460391605235 \n",
      " max: 3.162245598912972 \n",
      " min: 0.8588183389752584 \n",
      " std: 0.45339248880529\n",
      "\n",
      "Creating a Numpy array of 1000 random elements from normal dist with means of 2 and std of 0.5: \n",
      " mean: 2.0021986138294467 \n",
      " max: 3.51751372567345 \n",
      " min: 0.5090220054136152 \n",
      " std: 0.48646315646627064\n",
      "\n",
      "Creating a Numpy array of 1000000 random elements from normal dist with means of 2 and std of 0.5: \n",
      " mean: 2.000314347177334 \n",
      " max: 4.447322408868731 \n",
      " min: -0.2973623975173214 \n",
      " std: 0.4998817855208167\n",
      "\n",
      "From the result in the 3 cases above, it can be observed that the accuracy of the sample statistics increases with each increase in the sample size\n"
     ]
    }
   ],
   "source": [
    "# Create a numpy array consisting of 100 random elements from normal distribution with mean of 2 and std of 0.5. Print the mean, max, min and std of the array.\n",
    "print(f\"Creating a Numpy array of 100 random elements from normal dist with means of 2 and std of 0.5: \\\n",
    "\\n mean: {np.mean(np.random.normal(2, 0.5, 100) )} \\\n",
    "\\n max: {np.max(np.random.normal(2, 0.5, 100) )} \\\n",
    "\\n min: {np.min(np.random.normal(2, 0.5, 100) )} \\\n",
    "\\n std: {np.std(np.random.normal(2, 0.5, 100) )}\")\n",
    "\n",
    "# Create a numpy array consisting of 1000 random elements from normal distribution with mean of 2 and std of 0.5. Print the mean, max, min and std of the array.\n",
    "print(f\"\\nCreating a Numpy array of 1000 random elements from normal dist with means of 2 and std of 0.5: \\\n",
    "\\n mean: {np.mean(np.random.normal(2, 0.5, 1000) )} \\\n",
    "\\n max: {np.max(np.random.normal(2, 0.5, 1000) )} \\\n",
    "\\n min: {np.min(np.random.normal(2, 0.5, 1000) )} \\\n",
    "\\n std: {np.std(np.random.normal(2, 0.5, 1000) )}\")\n",
    "\n",
    "# Create a numpy array consisting of 1000000 random elements from normal distribution with mean of 2 and std of 0.5. Print the mean, max, min and std of the array.\n",
    "print(f\"\\nCreating a Numpy array of 1000000 random elements from normal dist with means of 2 and std of 0.5: \\\n",
    "\\n mean: {np.mean(np.random.normal(2, 0.5, 1000000) )} \\\n",
    "\\n max: {np.max(np.random.normal(2, 0.5, 1000000) )} \\\n",
    "\\n min: {np.min(np.random.normal(2, 0.5, 1000000) )} \\\n",
    "\\n std: {np.std(np.random.normal(2, 0.5, 1000000) )}\")\n",
    "\n",
    "# (Bonus question) Looking at the three above examples with 1000, 5000, and 10000 random elements, do you have any observations about mean and std values?\n",
    "print(\"\\nFrom the result in the 3 cases above, it can be observed that the accuracy of the sample statistics increases with each increase in the sample size\")\n"
   ]
  },
  {
   "attachments": {},
   "cell_type": "markdown",
   "metadata": {},
   "source": [
    "**Observation**: From the result in the 3 cases above, it can be observed that the accuracy of the sample statistics increases with each increase in the sample size"
   ]
  }
 ],
 "metadata": {
  "kernelspec": {
   "display_name": "env",
   "language": "python",
   "name": "python3"
  },
  "language_info": {
   "codemirror_mode": {
    "name": "ipython",
    "version": 3
   },
   "file_extension": ".py",
   "mimetype": "text/x-python",
   "name": "python",
   "nbconvert_exporter": "python",
   "pygments_lexer": "ipython3",
   "version": "3.10.9"
  },
  "vscode": {
   "interpreter": {
    "hash": "029eba8808cf6bb5075612e7fa32d9484502cae5277bc072c902841db97b55a5"
   }
  }
 },
 "nbformat": 4,
 "nbformat_minor": 1
}
