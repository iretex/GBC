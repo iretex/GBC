{
 "cells": [
  {
   "cell_type": "markdown",
   "metadata": {},
   "source": [
    "<p style=\"font-family: Arial; font-size:3em;color:black;\"> Lab Exercise 4 </p>"
   ]
  },
  {
   "attachments": {},
   "cell_type": "markdown",
   "metadata": {},
   "source": [
    "## Name: Iretioluwa Olawuyi"
   ]
  },
  {
   "cell_type": "code",
   "execution_count": 1,
   "metadata": {},
   "outputs": [],
   "source": [
    "import numpy as np\n",
    "from numpy.linalg import inv\n",
    "from numpy.linalg import det"
   ]
  },
  {
   "attachments": {},
   "cell_type": "markdown",
   "metadata": {},
   "source": [
    "1. Using numpy arrays and slicing operations (:), define and print \n",
    "the following A, B, and C matrix:"
   ]
  },
  {
   "cell_type": "code",
   "execution_count": 9,
   "metadata": {},
   "outputs": [
    {
     "name": "stdout",
     "output_type": "stream",
     "text": [
      "A = \n",
      " [[5 2 3]\n",
      " [6 1 3]\n",
      " [2 4 1]] \n",
      "\n",
      "B = \n",
      " [[5 2]\n",
      " [6 1]] \n",
      "\n",
      "C = \n",
      " [[1 3]\n",
      " [4 1]]\n"
     ]
    }
   ],
   "source": [
    "A = np.array([[5, 2, 3],\n",
    "            [6,1,3],\n",
    "            [2,4,1]])\n",
    "\n",
    "B = A[:2,:2]\n",
    "\n",
    "C = A[1:,1:]\n",
    "\n",
    "print(\"A = \\n\", A,\"\\n\\nB = \\n\", B,\"\\n\\nC = \\n\", C)"
   ]
  },
  {
   "attachments": {},
   "cell_type": "markdown",
   "metadata": {},
   "source": [
    "\n",
    " 2. Define D matrix using numpy:"
   ]
  },
  {
   "cell_type": "code",
   "execution_count": 8,
   "metadata": {},
   "outputs": [
    {
     "name": "stdout",
     "output_type": "stream",
     "text": [
      "D = \n",
      " [[ 4 -7  4]\n",
      " [ 5  6 -1]\n",
      " [-4  2  5]]\n"
     ]
    }
   ],
   "source": [
    "D = np.array([[4, -7, 4],\n",
    "            [5,6,-1],\n",
    "            [-4,2,5]])\n",
    "print(\"D = \\n\", D)"
   ]
  },
  {
   "attachments": {},
   "cell_type": "markdown",
   "metadata": {},
   "source": [
    "3. Use numpy matmulto calculate AD and also DA. Are they \n",
    "equal?"
   ]
  },
  {
   "cell_type": "code",
   "execution_count": 10,
   "metadata": {},
   "outputs": [
    {
     "name": "stdout",
     "output_type": "stream",
     "text": [
      "AD = \n",
      " [[ 18 -17  33]\n",
      " [ 17 -30  38]\n",
      " [ 24  12   9]] \n",
      "\n",
      " DA = \n",
      " [[-14  17  -5]\n",
      " [ 59  12  32]\n",
      " [  2  14  -1]] \n",
      "\n",
      "Check - AD == DA?: [[False False False]\n",
      " [False False False]\n",
      " [False False False]]\n"
     ]
    }
   ],
   "source": [
    "AD = np.matmul(A, D)\n",
    "\n",
    "DA = np.matmul(D, A)\n",
    "\n",
    "print(\"AD = \\n\", AD, \"\\n\\n\", \"DA = \\n\", DA, \"\\n\\nCheck - AD == DA?:\", AD == DA)"
   ]
  },
  {
   "attachments": {},
   "cell_type": "markdown",
   "metadata": {},
   "source": [
    "**Observation**: The result of matrix multiplication AD is not equal to DA"
   ]
  },
  {
   "attachments": {},
   "cell_type": "markdown",
   "metadata": {},
   "source": [
    "4. Manually calculate the determinant and inverse of B. Use \n",
    "numpy to calculate the same entities and confirm that your \n",
    "manual calculation agrees with your results from the jupyter\n",
    "notebook"
   ]
  },
  {
   "attachments": {},
   "cell_type": "markdown",
   "metadata": {},
   "source": [
    "The determinant of a 2-by-2 matrix is:\n",
    "\n",
    "$$ det(A) = | A | = \n",
    "\\begin{bmatrix}\n",
    "a & b \\\\\n",
    "c & d \\\\\n",
    "\\end{bmatrix}\n",
    "= (a \\times d) - (b \\times c)\n",
    "$$\n",
    "\n",
    "$$ det(B) = | B | = \n",
    "\\begin{bmatrix}\n",
    "5 & 2 \\\\\n",
    "6 & 1 \\\\\n",
    "\\end{bmatrix}\n",
    "= (5 \\times 1) - (2 \\times 6)\n",
    "= 5 - 12 = -7\n",
    "$$\n",
    "\n",
    "The inverse of a 2-by-2 matrix is:\n",
    "$$\n",
    "{\\begin{bmatrix}\n",
    "a & b \\\\\n",
    "c & d \\\\\n",
    "\\end{bmatrix}}^{-1}\n",
    "=\n",
    "\\dfrac{1}{ad - bc}\n",
    "\\begin{bmatrix}\n",
    "d & -b \\\\\n",
    "-c & a \\\\\n",
    "\\end{bmatrix}\n",
    "$$\n",
    "\n",
    "$$\n",
    "\\equiv\n",
    "{\\begin{bmatrix}\n",
    "5 & 2 \\\\\n",
    "6 & 1 \\\\\n",
    "\\end{bmatrix}}^{-1}\n",
    "=\n",
    "\\dfrac{1}{5 \\times 1 - 2 \\times 6}\n",
    "\\begin{bmatrix}\n",
    "1 & -2 \\\\\n",
    "-6 & 5 \\\\\n",
    "\\end{bmatrix}\n",
    "\n",
    "= \\dfrac{1}{-7} \\times \n",
    "\\begin{bmatrix}\n",
    "1 & -2 \\\\\n",
    "-6 & 5 \\\\\n",
    "\\end{bmatrix}\n",
    "\n",
    "= \n",
    "\\begin{bmatrix}\n",
    "-0.143 & 0.286 \\\\\n",
    "0.857 & -0.714 \\\\\n",
    "\\end{bmatrix}\n",
    "$$"
   ]
  },
  {
   "cell_type": "code",
   "execution_count": 12,
   "metadata": {},
   "outputs": [
    {
     "name": "stdout",
     "output_type": "stream",
     "text": [
      "Inverse of matrix B is: \n",
      "[[-0.14285714  0.28571429]\n",
      " [ 0.85714286 -0.71428571]]\n",
      "Determinant of matrix B is: -6.999999999999999\n"
     ]
    }
   ],
   "source": [
    "print(f\"Inverse of matrix B is: \\n{inv(B)}\")\n",
    "print(f\"Determinant of matrix B is: {det(B)}\")"
   ]
  },
  {
   "attachments": {},
   "cell_type": "markdown",
   "metadata": {},
   "source": [
    "5. Use numpy to calculate the inverse of D. Confirm that $DD^{-1}$\n",
    "and $𝐷^{-1}D$ both are 3-by-3 identity matrices. Do you have any \n",
    "observations?"
   ]
  },
  {
   "cell_type": "code",
   "execution_count": 15,
   "metadata": {},
   "outputs": [
    {
     "name": "stdout",
     "output_type": "stream",
     "text": [
      "The inverse of Matrix D is: \n",
      "[[ 0.07785888  0.10462287 -0.04136253]\n",
      " [-0.05109489  0.08759124  0.05839416]\n",
      " [ 0.08272506  0.0486618   0.14355231]] \n",
      "\n",
      "D*D^-1 is: \n",
      "[[ 1.00000000e+00  1.11022302e-16  0.00000000e+00]\n",
      " [ 6.93889390e-17  1.00000000e+00 -5.55111512e-17]\n",
      " [-1.38777878e-17 -8.32667268e-17  1.00000000e+00]] \n",
      "\n",
      "D^-1*D is: \n",
      "[[ 1.00000000e+00  6.93889390e-17  6.93889390e-18]\n",
      " [ 2.77555756e-17  1.00000000e+00 -2.08166817e-17]\n",
      " [ 0.00000000e+00  0.00000000e+00  1.00000000e+00]] \n"
     ]
    }
   ],
   "source": [
    "print(f\"The inverse of Matrix D is: \\n{inv(D)} \\n\")\n",
    "print(f\"D*D^-1 is: \\n{np.matmul(D,inv(D))} \\n\")\n",
    "print(f\"D^-1*D is: \\n{np.matmul(inv(D),D)} \")"
   ]
  },
  {
   "attachments": {},
   "cell_type": "markdown",
   "metadata": {},
   "source": [
    "It is clear from the above that $DD^{-1}$ and $D^{-1}D$ both returns a 3-by-3 identity matrix"
   ]
  }
 ],
 "metadata": {
  "kernelspec": {
   "display_name": "env",
   "language": "python",
   "name": "python3"
  },
  "language_info": {
   "codemirror_mode": {
    "name": "ipython",
    "version": 3
   },
   "file_extension": ".py",
   "mimetype": "text/x-python",
   "name": "python",
   "nbconvert_exporter": "python",
   "pygments_lexer": "ipython3",
   "version": "3.10.9"
  },
  "vscode": {
   "interpreter": {
    "hash": "029eba8808cf6bb5075612e7fa32d9484502cae5277bc072c902841db97b55a5"
   }
  }
 },
 "nbformat": 4,
 "nbformat_minor": 1
}
