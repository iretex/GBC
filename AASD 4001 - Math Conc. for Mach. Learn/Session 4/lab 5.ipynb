{
 "cells": [
  {
   "attachments": {},
   "cell_type": "markdown",
   "metadata": {},
   "source": [
    "1. \n",
    "Calculate the bag of words (without TF-IDF, just word counts) matrix for the following 5 phrases.\n",
    "- college student\n",
    "- airport taxi driver\n",
    "- Toronto art museum\n",
    "- life art\n",
    "- machine learning student \n",
    "\n",
    "Hints: How many rows should be there? How many columns should be there?\n",
    "\n"
   ]
  },
  {
   "cell_type": "code",
   "execution_count": 32,
   "metadata": {},
   "outputs": [
    {
     "data": {
      "text/html": [
       "<div>\n",
       "<style scoped>\n",
       "    .dataframe tbody tr th:only-of-type {\n",
       "        vertical-align: middle;\n",
       "    }\n",
       "\n",
       "    .dataframe tbody tr th {\n",
       "        vertical-align: top;\n",
       "    }\n",
       "\n",
       "    .dataframe thead th {\n",
       "        text-align: right;\n",
       "    }\n",
       "</style>\n",
       "<table border=\"1\" class=\"dataframe\">\n",
       "  <thead>\n",
       "    <tr style=\"text-align: right;\">\n",
       "      <th></th>\n",
       "      <th>college student</th>\n",
       "      <th>airport taxi driver</th>\n",
       "      <th>Toronto art museum</th>\n",
       "      <th>life art</th>\n",
       "      <th>machine learning student</th>\n",
       "    </tr>\n",
       "  </thead>\n",
       "  <tbody>\n",
       "    <tr>\n",
       "      <th>0</th>\n",
       "      <td>[1, 1]</td>\n",
       "      <td>NaN</td>\n",
       "      <td>NaN</td>\n",
       "      <td>NaN</td>\n",
       "      <td>NaN</td>\n",
       "    </tr>\n",
       "    <tr>\n",
       "      <th>1</th>\n",
       "      <td>NaN</td>\n",
       "      <td>[1, 1, 1]</td>\n",
       "      <td>NaN</td>\n",
       "      <td>NaN</td>\n",
       "      <td>NaN</td>\n",
       "    </tr>\n",
       "    <tr>\n",
       "      <th>2</th>\n",
       "      <td>NaN</td>\n",
       "      <td>NaN</td>\n",
       "      <td>[1, 1, 1]</td>\n",
       "      <td>NaN</td>\n",
       "      <td>NaN</td>\n",
       "    </tr>\n",
       "    <tr>\n",
       "      <th>3</th>\n",
       "      <td>NaN</td>\n",
       "      <td>NaN</td>\n",
       "      <td>NaN</td>\n",
       "      <td>[1, 1]</td>\n",
       "      <td>NaN</td>\n",
       "    </tr>\n",
       "    <tr>\n",
       "      <th>4</th>\n",
       "      <td>NaN</td>\n",
       "      <td>NaN</td>\n",
       "      <td>NaN</td>\n",
       "      <td>NaN</td>\n",
       "      <td>[1, 1, 1]</td>\n",
       "    </tr>\n",
       "  </tbody>\n",
       "</table>\n",
       "</div>"
      ],
      "text/plain": [
       "  college student airport taxi driver Toronto art museum life art  \\\n",
       "0          [1, 1]                 NaN                NaN      NaN   \n",
       "1             NaN           [1, 1, 1]                NaN      NaN   \n",
       "2             NaN                 NaN          [1, 1, 1]      NaN   \n",
       "3             NaN                 NaN                NaN   [1, 1]   \n",
       "4             NaN                 NaN                NaN      NaN   \n",
       "\n",
       "  machine learning student  \n",
       "0                      NaN  \n",
       "1                      NaN  \n",
       "2                      NaN  \n",
       "3                      NaN  \n",
       "4                [1, 1, 1]  "
      ]
     },
     "execution_count": 32,
     "metadata": {},
     "output_type": "execute_result"
    }
   ],
   "source": [
    "def bow_matrix(words):\n",
    "\n",
    "    bow = {}\n",
    "    for word in words.split():\n",
    "        if word in bow:\n",
    "            bow[word] += 1\n",
    "        else:\n",
    "            bow[word] = 1\n",
    "    return bow\n",
    "\n",
    "word_list = [\"college student\",\n",
    "\"airport taxi driver\",\n",
    "\"Toronto art museum\",\n",
    "\"life art\",\n",
    "\"machine learning student\"]\n",
    "\n",
    "corpus = []\n",
    "for w in word_list:\n",
    "    corpus.extend(w.split())\n",
    "\n",
    "# for w in word_list:\n",
    "#     print(\"Generating bow for \", w, \"\\n\",bow_matrix(w), \"\\n\")\n",
    "wc_matrix = []\n",
    "# for w in list(set(corpus)):\n",
    "#     for y in word_list:\n",
    "#         wc_matrix.append({\n",
    "#             w: w in y.split()\n",
    "#             })\n",
    "\n",
    "for y in word_list:\n",
    "    wc_matrix.append({\n",
    "        y: [1 for i in y.split() if i in list(set(corpus))]\n",
    "            })\n",
    "\n",
    "all = list(set(corpus))\n",
    "import numpy as np\n",
    "\n",
    "np.array([\n",
    "    \n",
    "])\n",
    "pd.DataFrame(wc_matrix)\n",
    "\n"
   ]
  },
  {
   "cell_type": "code",
   "execution_count": 6,
   "metadata": {},
   "outputs": [
    {
     "name": "stdout",
     "output_type": "stream",
     "text": [
      "Vocabulary: ['fun', 'is', 'love', 'coding', 'I', 'NLP']\n",
      "TF-IDF matrix: [[0.0, 0.0, 0.13515503603605478, 0.0, 0.13515503603605478, 0.13515503603605478], [0.3662040962227032, 0.3662040962227032, 0.0, 0.0, 0.0, 0.13515503603605478], [0.0, 0.0, 0.13515503603605478, 0.3662040962227032, 0.13515503603605478, 0.0]]\n"
     ]
    }
   ],
   "source": [
    "import math\n",
    "\n",
    "# Define the text data\n",
    "text_data = [\"I love NLP\", \"NLP is fun\", \"I love coding\"]\n",
    "\n",
    "# Tokenize the text data\n",
    "def tokenize(text):\n",
    "    tokens = text.split()\n",
    "    return tokens\n",
    "\n",
    "# Calculate the Term Frequency (TF)\n",
    "def tf(term, document):\n",
    "    return document.count(term) / len(document)\n",
    "\n",
    "# Calculate the Inverse Document Frequency (IDF)\n",
    "def idf(term, text_data):\n",
    "    num_documents = len(text_data)\n",
    "    num_documents_with_term = sum(1 for document in text_data if term in document)\n",
    "    return math.log(num_documents / num_documents_with_term)\n",
    "\n",
    "# Calculate the TF-IDF for a term in a document\n",
    "def tf_idf(term, document, text_data):\n",
    "    return tf(term, document) * idf(term, text_data)\n",
    "\n",
    "# Tokenize the text data\n",
    "text_data = [tokenize(text) for text in text_data]\n",
    "\n",
    "# Get a list of unique terms in the text data\n",
    "vocabulary = list(set([term for document in text_data for term in document]))\n",
    "\n",
    "# Calculate the TF-IDF for each term in each document\n",
    "tf_idf_matrix = []\n",
    "for document in text_data:\n",
    "    tf_idf_vector = []\n",
    "    for term in vocabulary:\n",
    "        tf_idf_vector.append(tf_idf(term, document, text_data))\n",
    "    tf_idf_matrix.append(tf_idf_vector)\n",
    "\n",
    "# Print the vocabulary and the TF-IDF matrix\n",
    "print(\"Vocabulary:\", vocabulary)\n",
    "print(\"TF-IDF matrix:\", tf_idf_matrix)\n"
   ]
  },
  {
   "cell_type": "code",
   "execution_count": 8,
   "metadata": {},
   "outputs": [
    {
     "data": {
      "text/html": [
       "<div>\n",
       "<style scoped>\n",
       "    .dataframe tbody tr th:only-of-type {\n",
       "        vertical-align: middle;\n",
       "    }\n",
       "\n",
       "    .dataframe tbody tr th {\n",
       "        vertical-align: top;\n",
       "    }\n",
       "\n",
       "    .dataframe thead th {\n",
       "        text-align: right;\n",
       "    }\n",
       "</style>\n",
       "<table border=\"1\" class=\"dataframe\">\n",
       "  <thead>\n",
       "    <tr style=\"text-align: right;\">\n",
       "      <th></th>\n",
       "      <th>fun</th>\n",
       "      <th>is</th>\n",
       "      <th>love</th>\n",
       "      <th>coding</th>\n",
       "      <th>I</th>\n",
       "      <th>NLP</th>\n",
       "    </tr>\n",
       "  </thead>\n",
       "  <tbody>\n",
       "    <tr>\n",
       "      <th>0</th>\n",
       "      <td>0.000000</td>\n",
       "      <td>0.000000</td>\n",
       "      <td>0.135155</td>\n",
       "      <td>0.000000</td>\n",
       "      <td>0.135155</td>\n",
       "      <td>0.135155</td>\n",
       "    </tr>\n",
       "    <tr>\n",
       "      <th>1</th>\n",
       "      <td>0.366204</td>\n",
       "      <td>0.366204</td>\n",
       "      <td>0.000000</td>\n",
       "      <td>0.000000</td>\n",
       "      <td>0.000000</td>\n",
       "      <td>0.135155</td>\n",
       "    </tr>\n",
       "    <tr>\n",
       "      <th>2</th>\n",
       "      <td>0.000000</td>\n",
       "      <td>0.000000</td>\n",
       "      <td>0.135155</td>\n",
       "      <td>0.366204</td>\n",
       "      <td>0.135155</td>\n",
       "      <td>0.000000</td>\n",
       "    </tr>\n",
       "  </tbody>\n",
       "</table>\n",
       "</div>"
      ],
      "text/plain": [
       "        fun        is      love    coding         I       NLP\n",
       "0  0.000000  0.000000  0.135155  0.000000  0.135155  0.135155\n",
       "1  0.366204  0.366204  0.000000  0.000000  0.000000  0.135155\n",
       "2  0.000000  0.000000  0.135155  0.366204  0.135155  0.000000"
      ]
     },
     "execution_count": 8,
     "metadata": {},
     "output_type": "execute_result"
    }
   ],
   "source": [
    "import  pandas as pd\n",
    "\n",
    "pd.DataFrame(tf_idf_matrix, columns=vocabulary)"
   ]
  },
  {
   "attachments": {},
   "cell_type": "markdown",
   "metadata": {},
   "source": [
    "2. Calculate the IDF for the words “college” and “art”."
   ]
  },
  {
   "cell_type": "code",
   "execution_count": 9,
   "metadata": {},
   "outputs": [
    {
     "data": {
      "text/plain": [
       "[[0.0, 0.0, 0.0, 0.0, 0.0, 0.0], [0.0, 0.0, 0.0, 0.0, 0.0, 0.0]]"
      ]
     },
     "execution_count": 9,
     "metadata": {},
     "output_type": "execute_result"
    }
   ],
   "source": [
    "tf_idf_matrix = []\n",
    "for document in [ \"college\", \"art\"]:\n",
    "    tf_idf_vector = []\n",
    "    for term in vocabulary:\n",
    "        tf_idf_vector.append(tf_idf(term, document, text_data))\n",
    "    tf_idf_matrix.append(tf_idf_vector)\n",
    "tf_idf_matrix"
   ]
  },
  {
   "cell_type": "code",
   "execution_count": 10,
   "metadata": {},
   "outputs": [
    {
     "name": "stdout",
     "output_type": "stream",
     "text": [
      "0.6931471805599453\n",
      "0.6931471805599453\n"
     ]
    }
   ],
   "source": [
    "\n",
    "# Calculate the Inverse Document Frequency (IDF)\n",
    "def idf(term, text_data):\n",
    "    num_documents = len(text_data)\n",
    "    num_documents_with_term = sum(1 for document in text_data if term in document)\n",
    "    return math.log(num_documents / num_documents_with_term)\n",
    "\n",
    "data = [ \"college\", \"art\"]\n",
    "\n",
    "for i in data:\n",
    "    print(idf(i, data))"
   ]
  }
 ],
 "metadata": {
  "kernelspec": {
   "display_name": "env",
   "language": "python",
   "name": "python3"
  },
  "language_info": {
   "codemirror_mode": {
    "name": "ipython",
    "version": 3
   },
   "file_extension": ".py",
   "mimetype": "text/x-python",
   "name": "python",
   "nbconvert_exporter": "python",
   "pygments_lexer": "ipython3",
   "version": "3.10.9"
  },
  "orig_nbformat": 4,
  "vscode": {
   "interpreter": {
    "hash": "029eba8808cf6bb5075612e7fa32d9484502cae5277bc072c902841db97b55a5"
   }
  }
 },
 "nbformat": 4,
 "nbformat_minor": 2
}
