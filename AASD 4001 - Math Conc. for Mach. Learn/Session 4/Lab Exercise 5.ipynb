{
 "cells": [
  {
   "attachments": {},
   "cell_type": "markdown",
   "metadata": {},
   "source": [
    "# Lab Exercise 5\n",
    "## Name: Iretioluwa Olawuyi"
   ]
  },
  {
   "attachments": {},
   "cell_type": "markdown",
   "metadata": {},
   "source": [
    "1. \n",
    "Calculate the bag of words (without TF-IDF, just word counts) matrix for the following 5 phrases.\n",
    "- college student\n",
    "- airport taxi driver\n",
    "- Toronto art museum\n",
    "- life art\n",
    "- machine learning student \n",
    "\n",
    "Hints: How many rows should be there? How many columns should be there?"
   ]
  },
  {
   "cell_type": "code",
   "execution_count": 16,
   "metadata": {},
   "outputs": [
    {
     "data": {
      "text/html": [
       "<div>\n",
       "<style scoped>\n",
       "    .dataframe tbody tr th:only-of-type {\n",
       "        vertical-align: middle;\n",
       "    }\n",
       "\n",
       "    .dataframe tbody tr th {\n",
       "        vertical-align: top;\n",
       "    }\n",
       "\n",
       "    .dataframe thead th {\n",
       "        text-align: right;\n",
       "    }\n",
       "</style>\n",
       "<table border=\"1\" class=\"dataframe\">\n",
       "  <thead>\n",
       "    <tr style=\"text-align: right;\">\n",
       "      <th>Word</th>\n",
       "      <th>taxi</th>\n",
       "      <th>airport</th>\n",
       "      <th>life</th>\n",
       "      <th>driver</th>\n",
       "      <th>college</th>\n",
       "      <th>machine</th>\n",
       "      <th>museum</th>\n",
       "      <th>learning</th>\n",
       "      <th>student</th>\n",
       "      <th>Toronto</th>\n",
       "      <th>art</th>\n",
       "    </tr>\n",
       "  </thead>\n",
       "  <tbody>\n",
       "    <tr>\n",
       "      <th>college student</th>\n",
       "      <td>0</td>\n",
       "      <td>0</td>\n",
       "      <td>0</td>\n",
       "      <td>0</td>\n",
       "      <td>1</td>\n",
       "      <td>0</td>\n",
       "      <td>0</td>\n",
       "      <td>0</td>\n",
       "      <td>1</td>\n",
       "      <td>0</td>\n",
       "      <td>0</td>\n",
       "    </tr>\n",
       "    <tr>\n",
       "      <th>airport taxi driver</th>\n",
       "      <td>1</td>\n",
       "      <td>1</td>\n",
       "      <td>0</td>\n",
       "      <td>1</td>\n",
       "      <td>0</td>\n",
       "      <td>0</td>\n",
       "      <td>0</td>\n",
       "      <td>0</td>\n",
       "      <td>0</td>\n",
       "      <td>0</td>\n",
       "      <td>0</td>\n",
       "    </tr>\n",
       "    <tr>\n",
       "      <th>Toronto art museum</th>\n",
       "      <td>0</td>\n",
       "      <td>0</td>\n",
       "      <td>0</td>\n",
       "      <td>0</td>\n",
       "      <td>0</td>\n",
       "      <td>0</td>\n",
       "      <td>1</td>\n",
       "      <td>0</td>\n",
       "      <td>0</td>\n",
       "      <td>1</td>\n",
       "      <td>1</td>\n",
       "    </tr>\n",
       "    <tr>\n",
       "      <th>life art</th>\n",
       "      <td>0</td>\n",
       "      <td>0</td>\n",
       "      <td>1</td>\n",
       "      <td>0</td>\n",
       "      <td>0</td>\n",
       "      <td>0</td>\n",
       "      <td>0</td>\n",
       "      <td>0</td>\n",
       "      <td>0</td>\n",
       "      <td>0</td>\n",
       "      <td>1</td>\n",
       "    </tr>\n",
       "    <tr>\n",
       "      <th>machine learning student</th>\n",
       "      <td>0</td>\n",
       "      <td>0</td>\n",
       "      <td>0</td>\n",
       "      <td>0</td>\n",
       "      <td>0</td>\n",
       "      <td>1</td>\n",
       "      <td>0</td>\n",
       "      <td>1</td>\n",
       "      <td>1</td>\n",
       "      <td>0</td>\n",
       "      <td>0</td>\n",
       "    </tr>\n",
       "  </tbody>\n",
       "</table>\n",
       "</div>"
      ],
      "text/plain": [
       "Word                      taxi  airport  life  driver  college  machine  \\\n",
       "college student              0        0     0       0        1        0   \n",
       "airport taxi driver          1        1     0       1        0        0   \n",
       "Toronto art museum           0        0     0       0        0        0   \n",
       "life art                     0        0     1       0        0        0   \n",
       "machine learning student     0        0     0       0        0        1   \n",
       "\n",
       "Word                      museum  learning  student  Toronto  art  \n",
       "college student                0         0        1        0    0  \n",
       "airport taxi driver            0         0        0        0    0  \n",
       "Toronto art museum             1         0        0        1    1  \n",
       "life art                       0         0        0        0    1  \n",
       "machine learning student       0         1        1        0    0  "
      ]
     },
     "execution_count": 16,
     "metadata": {},
     "output_type": "execute_result"
    }
   ],
   "source": [
    "import pandas as pd\n",
    "import math\n",
    "\n",
    "phrases = [\"college student\", \"airport taxi driver\", \"Toronto art museum\", \"life art\", \"machine learning student\"]\n",
    "\n",
    "# Split the phrases into words using list-comprehension\n",
    "word_list = [phrase.split() for phrase in phrases]\n",
    "\n",
    "# Flatten the list of words\n",
    "word_list = [word for sublist in word_list for word in sublist]\n",
    "\n",
    "# Find the unique words in the list\n",
    "unique_words = list(set(word_list))\n",
    "\n",
    "# Create a dictionary with the unique words as keys and their counts as values\n",
    "word_counts = {word: 0 for word in unique_words}\n",
    "\n",
    "# Count the occurrences of each word in the list\n",
    "for word in word_list:\n",
    "    word_counts[word] += 1\n",
    "\n",
    "# Create a pandas dataframe from the dictionary\n",
    "df = pd.DataFrame(list(word_counts.items()), columns=[\"Word\", \"Count\"])\n",
    "\n",
    "# Create a bag of words (word counts) matrix with the words as rows and the phrases as columns\n",
    "bow_matrix = pd.DataFrame(columns=phrases, index=df[\"Word\"])\n",
    "bow_matrix = bow_matrix.fillna(0)\n",
    "\n",
    "for phrase in phrases:\n",
    "    for word in phrase.split():\n",
    "        bow_matrix.at[word, phrase] += 1\n",
    "\n",
    "# Display the bag of words (word counts) matrix\n",
    "bow_matrix.transpose()\n"
   ]
  },
  {
   "attachments": {},
   "cell_type": "markdown",
   "metadata": {},
   "source": [
    "**Observation**: The bag of words matrix will have 5 rows (one for each phrase) and 11 columns (one for each unique word)."
   ]
  },
  {
   "attachments": {},
   "cell_type": "markdown",
   "metadata": {},
   "source": [
    "2. \n",
    "Calculate the IDF for the words “college” and “art”."
   ]
  },
  {
   "attachments": {},
   "cell_type": "markdown",
   "metadata": {},
   "source": [
    "Recall that;\n",
    "\n",
    "$IDF = log(\\dfrac{N}{df_x})$\n",
    "\n",
    "\n",
    "$df_x:$ number of documents containing x\n",
    "\n",
    "$N:$ total number of documents"
   ]
  },
  {
   "cell_type": "code",
   "execution_count": 15,
   "metadata": {},
   "outputs": [
    {
     "name": "stdout",
     "output_type": "stream",
     "text": [
      "       Word  Count      IDF\n",
      "4   college      1  0.69897\n",
      "10      art      2  0.39794\n"
     ]
    }
   ],
   "source": [
    "# Number of phrases (documents)\n",
    "N = len(phrases)\n",
    "\n",
    "# Calculate the IDF for each word\n",
    "df[\"IDF\"] = df.apply(lambda x: math.log10(N/x[\"Count\"]), axis=1)\n",
    "\n",
    "# Display the result\n",
    "print(df[df[\"Word\"].isin([\"college\", \"art\"])])\n"
   ]
  }
 ],
 "metadata": {
  "kernelspec": {
   "display_name": "env",
   "language": "python",
   "name": "python3"
  },
  "language_info": {
   "codemirror_mode": {
    "name": "ipython",
    "version": 3
   },
   "file_extension": ".py",
   "mimetype": "text/x-python",
   "name": "python",
   "nbconvert_exporter": "python",
   "pygments_lexer": "ipython3",
   "version": "3.10.9"
  },
  "orig_nbformat": 4,
  "vscode": {
   "interpreter": {
    "hash": "029eba8808cf6bb5075612e7fa32d9484502cae5277bc072c902841db97b55a5"
   }
  }
 },
 "nbformat": 4,
 "nbformat_minor": 2
}
