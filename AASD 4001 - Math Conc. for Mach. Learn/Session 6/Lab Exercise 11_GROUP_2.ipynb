{
  "metadata": {
    "kernelspec": {
      "name": "python",
      "display_name": "Python (Pyodide)",
      "language": "python"
    },
    "language_info": {
      "codemirror_mode": {
        "name": "python",
        "version": 3
      },
      "file_extension": ".py",
      "mimetype": "text/x-python",
      "name": "python",
      "nbconvert_exporter": "python",
      "pygments_lexer": "ipython3",
      "version": "3.8"
    }
  },
  "nbformat_minor": 4,
  "nbformat": 4,
  "cells": [
    {
      "cell_type": "markdown",
      "source": "<p style=\"font-family: Arial; font-size:3em;color:black;\"> Lab Exercise 11</p>\n<h4>Names........Group-2</h4>\n<ol>\n    <li>Vijay Karthik Bethapudi</li>\n    <li>Prakhar Patel</li>\n    <li>Vishal Dharmendra Patel</li>\n    <li>Vivek Patel</li>\n    <li>Yash Suresh Upadhyay</li>\n    <li>Archana Wasti Dahal</li>\n    <li> Huzaifa Jahan</li>\n    <li>Iretioluwa Olawuyi</li>\n</ol>",
      "metadata": {}
    },
    {
      "cell_type": "code",
      "source": "import pandas as pd\nimport numpy as np\nimport matplotlib.pyplot as plt\nnp.random.seed(5)  # creating pseudo-random numbers for reproducibility",
      "metadata": {
        "trusted": true
      },
      "execution_count": 8,
      "outputs": []
    },
    {
      "cell_type": "code",
      "source": "# Let's consider the following A_orig matrix:\n\nA_orig = np.array([[4, 2, 4, 5, 4, 2, 2], [4, 4, 3, 2, 2, 5, 4], [4, 1, 4, 7, 3, 6, 2], [8 ,1, 2, 0, 5, 0, 7], [4 , 5, 8, 7, 6, 2, 3]],dtype=float)\nM, N = 5, 7\nprint (pd.DataFrame(A_orig).head())",
      "metadata": {
        "trusted": true
      },
      "execution_count": 9,
      "outputs": [
        {
          "name": "stdout",
          "text": "     0    1    2    3    4    5    6\n0  4.0  2.0  4.0  5.0  4.0  2.0  2.0\n1  4.0  4.0  3.0  2.0  2.0  5.0  4.0\n2  4.0  1.0  4.0  7.0  3.0  6.0  2.0\n3  8.0  1.0  2.0  0.0  5.0  0.0  7.0\n4  4.0  5.0  8.0  7.0  6.0  2.0  3.0\n",
          "output_type": "stream"
        }
      ]
    },
    {
      "cell_type": "code",
      "source": "# Let's add some NaN(s) to  A_orig matrix\n\nA = A_orig.copy()\nA[3][1] = np.NaN\nA[4][6] = np.NaN\n\nA_df = pd.DataFrame(A)\nprint (A_df.head())",
      "metadata": {
        "trusted": true
      },
      "execution_count": 3,
      "outputs": [
        {
          "name": "stdout",
          "text": "     0    1    2    3    4    5    6\n0  4.0  2.0  4.0  5.0  4.0  2.0  2.0\n1  4.0  4.0  3.0  2.0  2.0  5.0  4.0\n2  4.0  1.0  4.0  7.0  3.0  6.0  2.0\n3  8.0  NaN  2.0  0.0  5.0  0.0  7.0\n4  4.0  5.0  8.0  7.0  6.0  2.0  NaN\n",
          "output_type": "stream"
        }
      ]
    },
    {
      "cell_type": "code",
      "source": "# Fine tune K value such that the (average percentage) error for the 2 missing elements is minimum.\n# Remember: this is an exercise where we have the actual values for missing elements. \n# In real-life scenarios missins elements are not known and you may need different metric(s)\n# to assess the quality of your reconstructed matrix.\nK = 1\nP = np.abs(np.random.uniform(low=0, high=8, size=(M, K)))\nQ = np.abs(np.random.uniform(low=0, high=8, size=(K, N)))\nP = np.divide(P, K*P.max())\nQ = np.divide(Q, K*Q.max())",
      "metadata": {
        "trusted": true
      },
      "execution_count": 4,
      "outputs": []
    },
    {
      "cell_type": "code",
      "source": "def matrix_factorization(Rating_Matrix, P, Q, K, steps, alpha=0.001, beta=0.02):\n    Q = Q.T\n    for step in range(steps):\n        for i in range(len(Rating_Matrix)):\n            for j in range(len(Rating_Matrix[i])):\n                if ~np.isnan(Rating_Matrix[i][j]):\n                    eij = Rating_Matrix[i][j] - np.dot(P[i,:],Q[:,j])\n                    for k in range(K):\n                        P[i][k] = P[i][k] + alpha * (2 * eij * Q[k][j] - beta * P[i][k])\n                        Q[k][j] = Q[k][j] + alpha * (2 * eij * P[i][k] - beta * Q[k][j])\n        eRating_Matrix = np.dot(P,Q)\n        e = 0\n        for i in range(len(Rating_Matrix)):\n            for j in range(len(Rating_Matrix[i])):\n                if ~np.isnan(Rating_Matrix[i][j]):\n                    e = e + pow(Rating_Matrix[i][j] - np.dot(P[i,:],Q[:,j]), 2)\n                    for k in range(K):\n                        e = e + (beta/2) * (pow(P[i][k],2) + pow(Q[k][j],2))\n        #print(\"Total error at step\", step, \"is\", e)\n        if e < 0.0001:\n            break\n    return P, Q.T",
      "metadata": {
        "trusted": true
      },
      "execution_count": 5,
      "outputs": []
    },
    {
      "cell_type": "code",
      "source": "eP, eQ = matrix_factorization(A, P, Q.T, K, steps = 1000)\neA = np.matmul(eP, eQ.T)\n\nprint(A,'\\n')\nprint(eA)",
      "metadata": {
        "trusted": true
      },
      "execution_count": 6,
      "outputs": [
        {
          "name": "stdout",
          "text": "[[ 4.  2.  4.  5.  4.  2.  2.]\n [ 4.  4.  3.  2.  2.  5.  4.]\n [ 4.  1.  4.  7.  3.  6.  2.]\n [ 8. nan  2.  0.  5.  0.  7.]\n [ 4.  5.  8.  7.  6.  2. nan]] \n\n[[3.88450179 2.57075299 3.74773819 3.69103013 3.45556594 2.35975955\n  3.55853632]\n [3.77147533 2.49595237 3.63869111 3.58363307 3.35502012 2.29109816\n  3.4549944 ]\n [4.42075011 2.92564071 4.26510655 4.20057005 3.93260045 2.68552001\n  4.04978571]\n [4.28027417 2.8326741  4.12957641 4.06709065 3.80763619 2.6001836\n  3.92109771]\n [6.35441219 4.20533314 6.13068921 6.03792407 5.652743   3.86018224\n  5.82118578]]\n",
          "output_type": "stream"
        }
      ]
    },
    {
      "cell_type": "code",
      "source": "nan_Indices = np.argwhere(np.isnan(A))\ntotal_Error = 0\n\nfor index in nan_Indices:\n    i, j = index\n    total_Error += abs(eA[i, j] - A_orig[i, j]) / A_orig[i, j]\n\n# Average percentage error\nape = total_Error / len(nan_Indices)\n\nprint(\"Average percentage error : \", ape)",
      "metadata": {
        "trusted": true
      },
      "execution_count": 7,
      "outputs": [
        {
          "name": "stdout",
          "text": "Average percentage error :  1.3865346780335785\n",
          "output_type": "stream"
        }
      ]
    }
  ]
}