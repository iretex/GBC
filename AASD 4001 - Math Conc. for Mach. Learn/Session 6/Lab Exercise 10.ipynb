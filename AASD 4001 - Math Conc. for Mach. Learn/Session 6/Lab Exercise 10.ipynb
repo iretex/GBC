{
 "cells": [
  {
   "cell_type": "markdown",
   "metadata": {},
   "source": [
    "<p style=\"font-family: Arial; font-size:3em;color:black;\"> Session 5 - Lab Exercise 10</p>"
   ]
  },
  {
   "cell_type": "code",
   "execution_count": 6,
   "metadata": {},
   "outputs": [],
   "source": [
    "# For this example, we will use K-Means Clustering Project database from Kaggle (https://www.kaggle.com/faressayah/k-means-clustering-private-vs-public-universities)\n",
    "# We actually have the labels for this data set, but we will NOT use them for the KMeans clustering algorithm, since that is an unsupervised learning algorithm.\n",
    "# As we will shortly see, we have a data frame with 777 observations on 18 variables.\n",
    "\n",
    "import pandas as pd\n",
    "import numpy as np\n",
    "import matplotlib.pyplot as plt\n",
    "\n",
    "from sklearn.metrics import confusion_matrix\n",
    "from sklearn.cluster import KMeans\n",
    "\n",
    "%matplotlib inline"
   ]
  },
  {
   "cell_type": "code",
   "execution_count": 3,
   "metadata": {},
   "outputs": [
    {
     "data": {
      "text/plain": [
       "Index(['Private', 'Apps', 'Accept', 'Enroll', 'Top10perc', 'Top25perc',\n",
       "       'F.Undergrad', 'P.Undergrad', 'Outstate', 'Room.Board', 'Books',\n",
       "       'Personal', 'PhD', 'Terminal', 'S.F.Ratio', 'perc.alumni', 'Expend',\n",
       "       'Grad.Rate'],\n",
       "      dtype='object')"
      ]
     },
     "execution_count": 3,
     "metadata": {},
     "output_type": "execute_result"
    }
   ],
   "source": [
    "df = pd.read_csv('College_Data.csv',index_col=0)\n",
    "df.columns"
   ]
  },
  {
   "cell_type": "code",
   "execution_count": 4,
   "metadata": {},
   "outputs": [
    {
     "name": "stderr",
     "output_type": "stream",
     "text": [
      "C:\\Users\\ireti\\AppData\\Local\\Temp\\ipykernel_92792\\3450590736.py:1: SettingWithCopyWarning: \n",
      "A value is trying to be set on a copy of a slice from a DataFrame\n",
      "\n",
      "See the caveats in the documentation: https://pandas.pydata.org/pandas-docs/stable/user_guide/indexing.html#returning-a-view-versus-a-copy\n",
      "  df['Grad.Rate']['Cazenovia College'] = 100\n"
     ]
    }
   ],
   "source": [
    "df['Grad.Rate']['Cazenovia College'] = 100\n",
    "\n",
    "# Try removing various columns (features) from the dataset and examin if it improves/degrades your K-Means model performance, or it may have little impact.\n",
    "# Report 10 cases where you removed one or more features and indicate how it impacted the model performance."
   ]
  },
  {
   "cell_type": "code",
   "execution_count": 7,
   "metadata": {},
   "outputs": [],
   "source": [
    "kmeans = KMeans(n_clusters=2)"
   ]
  },
  {
   "cell_type": "code",
   "execution_count": 20,
   "metadata": {},
   "outputs": [],
   "source": [
    "def convert_to_binary(cluster):  # converts labels for Private into binary values of 0 and 1\n",
    "        if cluster=='Yes':\n",
    "            return 1\n",
    "        else:\n",
    "            return 0\n",
    "\n",
    "def train_model(data, features):\n",
    "\n",
    "    kmeans.fit(data[features])    # we will not (and shall not) use class info, it is available only because this is an exercise and we want to examine the perofmacne of our K-Means algorithm.\n",
    "    # print(kmeans.cluster_centers_) # returns the values of the centroids\n",
    "    Cluster_predict=kmeans.predict(data[features])\n",
    "    data['Cluster_predict'] = Cluster_predict\n",
    "\n",
    "    data['Cluster_actual'] = data['Private'].apply(convert_to_binary)\n",
    "\n",
    "    cm = confusion_matrix(data['Cluster_actual'],kmeans.labels_)\n",
    "\n",
    "    return f\"{(cm[0][0]+cm[1][1])/sum([sum(i) for i in cm]):2f}%\"\n",
    "\n",
    "    \n"
   ]
  },
  {
   "cell_type": "code",
   "execution_count": 22,
   "metadata": {},
   "outputs": [
    {
     "name": "stderr",
     "output_type": "stream",
     "text": [
      "C:\\Users\\ireti\\AppData\\Local\\Packages\\PythonSoftwareFoundation.Python.3.10_qbz5n2kfra8p0\\LocalCache\\local-packages\\Python310\\site-packages\\sklearn\\cluster\\_kmeans.py:870: FutureWarning: The default value of `n_init` will change from 10 to 'auto' in 1.4. Set the value of `n_init` explicitly to suppress the warning\n",
      "  warnings.warn(\n",
      "C:\\Users\\ireti\\AppData\\Local\\Packages\\PythonSoftwareFoundation.Python.3.10_qbz5n2kfra8p0\\LocalCache\\local-packages\\Python310\\site-packages\\sklearn\\cluster\\_kmeans.py:870: FutureWarning: The default value of `n_init` will change from 10 to 'auto' in 1.4. Set the value of `n_init` explicitly to suppress the warning\n",
      "  warnings.warn(\n",
      "C:\\Users\\ireti\\AppData\\Local\\Packages\\PythonSoftwareFoundation.Python.3.10_qbz5n2kfra8p0\\LocalCache\\local-packages\\Python310\\site-packages\\sklearn\\cluster\\_kmeans.py:870: FutureWarning: The default value of `n_init` will change from 10 to 'auto' in 1.4. Set the value of `n_init` explicitly to suppress the warning\n",
      "  warnings.warn(\n",
      "C:\\Users\\ireti\\AppData\\Local\\Packages\\PythonSoftwareFoundation.Python.3.10_qbz5n2kfra8p0\\LocalCache\\local-packages\\Python310\\site-packages\\sklearn\\cluster\\_kmeans.py:870: FutureWarning: The default value of `n_init` will change from 10 to 'auto' in 1.4. Set the value of `n_init` explicitly to suppress the warning\n",
      "  warnings.warn(\n",
      "C:\\Users\\ireti\\AppData\\Local\\Packages\\PythonSoftwareFoundation.Python.3.10_qbz5n2kfra8p0\\LocalCache\\local-packages\\Python310\\site-packages\\sklearn\\cluster\\_kmeans.py:870: FutureWarning: The default value of `n_init` will change from 10 to 'auto' in 1.4. Set the value of `n_init` explicitly to suppress the warning\n",
      "  warnings.warn(\n",
      "C:\\Users\\ireti\\AppData\\Local\\Packages\\PythonSoftwareFoundation.Python.3.10_qbz5n2kfra8p0\\LocalCache\\local-packages\\Python310\\site-packages\\sklearn\\cluster\\_kmeans.py:870: FutureWarning: The default value of `n_init` will change from 10 to 'auto' in 1.4. Set the value of `n_init` explicitly to suppress the warning\n",
      "  warnings.warn(\n",
      "C:\\Users\\ireti\\AppData\\Local\\Packages\\PythonSoftwareFoundation.Python.3.10_qbz5n2kfra8p0\\LocalCache\\local-packages\\Python310\\site-packages\\sklearn\\cluster\\_kmeans.py:870: FutureWarning: The default value of `n_init` will change from 10 to 'auto' in 1.4. Set the value of `n_init` explicitly to suppress the warning\n",
      "  warnings.warn(\n",
      "C:\\Users\\ireti\\AppData\\Local\\Packages\\PythonSoftwareFoundation.Python.3.10_qbz5n2kfra8p0\\LocalCache\\local-packages\\Python310\\site-packages\\sklearn\\cluster\\_kmeans.py:870: FutureWarning: The default value of `n_init` will change from 10 to 'auto' in 1.4. Set the value of `n_init` explicitly to suppress the warning\n",
      "  warnings.warn(\n",
      "C:\\Users\\ireti\\AppData\\Local\\Packages\\PythonSoftwareFoundation.Python.3.10_qbz5n2kfra8p0\\LocalCache\\local-packages\\Python310\\site-packages\\sklearn\\cluster\\_kmeans.py:870: FutureWarning: The default value of `n_init` will change from 10 to 'auto' in 1.4. Set the value of `n_init` explicitly to suppress the warning\n",
      "  warnings.warn(\n",
      "C:\\Users\\ireti\\AppData\\Local\\Packages\\PythonSoftwareFoundation.Python.3.10_qbz5n2kfra8p0\\LocalCache\\local-packages\\Python310\\site-packages\\sklearn\\cluster\\_kmeans.py:870: FutureWarning: The default value of `n_init` will change from 10 to 'auto' in 1.4. Set the value of `n_init` explicitly to suppress the warning\n",
      "  warnings.warn(\n",
      "C:\\Users\\ireti\\AppData\\Local\\Packages\\PythonSoftwareFoundation.Python.3.10_qbz5n2kfra8p0\\LocalCache\\local-packages\\Python310\\site-packages\\sklearn\\cluster\\_kmeans.py:870: FutureWarning: The default value of `n_init` will change from 10 to 'auto' in 1.4. Set the value of `n_init` explicitly to suppress the warning\n",
      "  warnings.warn(\n",
      "C:\\Users\\ireti\\AppData\\Local\\Packages\\PythonSoftwareFoundation.Python.3.10_qbz5n2kfra8p0\\LocalCache\\local-packages\\Python310\\site-packages\\sklearn\\cluster\\_kmeans.py:870: FutureWarning: The default value of `n_init` will change from 10 to 'auto' in 1.4. Set the value of `n_init` explicitly to suppress the warning\n",
      "  warnings.warn(\n",
      "C:\\Users\\ireti\\AppData\\Local\\Packages\\PythonSoftwareFoundation.Python.3.10_qbz5n2kfra8p0\\LocalCache\\local-packages\\Python310\\site-packages\\sklearn\\cluster\\_kmeans.py:870: FutureWarning: The default value of `n_init` will change from 10 to 'auto' in 1.4. Set the value of `n_init` explicitly to suppress the warning\n",
      "  warnings.warn(\n",
      "C:\\Users\\ireti\\AppData\\Local\\Packages\\PythonSoftwareFoundation.Python.3.10_qbz5n2kfra8p0\\LocalCache\\local-packages\\Python310\\site-packages\\sklearn\\cluster\\_kmeans.py:870: FutureWarning: The default value of `n_init` will change from 10 to 'auto' in 1.4. Set the value of `n_init` explicitly to suppress the warning\n",
      "  warnings.warn(\n",
      "C:\\Users\\ireti\\AppData\\Local\\Packages\\PythonSoftwareFoundation.Python.3.10_qbz5n2kfra8p0\\LocalCache\\local-packages\\Python310\\site-packages\\sklearn\\cluster\\_kmeans.py:870: FutureWarning: The default value of `n_init` will change from 10 to 'auto' in 1.4. Set the value of `n_init` explicitly to suppress the warning\n",
      "  warnings.warn(\n",
      "C:\\Users\\ireti\\AppData\\Local\\Packages\\PythonSoftwareFoundation.Python.3.10_qbz5n2kfra8p0\\LocalCache\\local-packages\\Python310\\site-packages\\sklearn\\cluster\\_kmeans.py:870: FutureWarning: The default value of `n_init` will change from 10 to 'auto' in 1.4. Set the value of `n_init` explicitly to suppress the warning\n",
      "  warnings.warn(\n"
     ]
    },
    {
     "data": {
      "text/plain": [
       "{'0.229086%': ['Apps'],\n",
       " '0.227799%': ['Apps', 'Accept'],\n",
       " '0.222651%': ['Apps', 'Accept', 'Enroll', 'Top10perc', 'Top25perc'],\n",
       " '0.777349%': ['Apps', 'Accept', 'Enroll', 'Top10perc'],\n",
       " '0.187902%': ['Apps',\n",
       "  'Accept',\n",
       "  'Enroll',\n",
       "  'Top10perc',\n",
       "  'Top25perc',\n",
       "  'F.Undergrad'],\n",
       " '0.814672%': ['Apps',\n",
       "  'Accept',\n",
       "  'Enroll',\n",
       "  'Top10perc',\n",
       "  'Top25perc',\n",
       "  'F.Undergrad',\n",
       "  'P.Undergrad'],\n",
       " '0.828829%': ['Apps',\n",
       "  'Accept',\n",
       "  'Enroll',\n",
       "  'Top10perc',\n",
       "  'Top25perc',\n",
       "  'F.Undergrad',\n",
       "  'P.Undergrad',\n",
       "  'Outstate',\n",
       "  'Room.Board',\n",
       "  'Books',\n",
       "  'Personal'],\n",
       " '0.171171%': ['Apps',\n",
       "  'Accept',\n",
       "  'Enroll',\n",
       "  'Top10perc',\n",
       "  'Top25perc',\n",
       "  'F.Undergrad',\n",
       "  'P.Undergrad',\n",
       "  'Outstate',\n",
       "  'Room.Board',\n",
       "  'Books',\n",
       "  'Personal',\n",
       "  'PhD',\n",
       "  'Terminal'],\n",
       " '0.826255%': ['Apps',\n",
       "  'Accept',\n",
       "  'Enroll',\n",
       "  'Top10perc',\n",
       "  'Top25perc',\n",
       "  'F.Undergrad',\n",
       "  'P.Undergrad',\n",
       "  'Outstate',\n",
       "  'Room.Board',\n",
       "  'Books',\n",
       "  'Personal',\n",
       "  'PhD',\n",
       "  'Terminal',\n",
       "  'S.F.Ratio',\n",
       "  'perc.alumni'],\n",
       " '0.173745%': ['Apps',\n",
       "  'Accept',\n",
       "  'Enroll',\n",
       "  'Top10perc',\n",
       "  'Top25perc',\n",
       "  'F.Undergrad',\n",
       "  'P.Undergrad',\n",
       "  'Outstate',\n",
       "  'Room.Board',\n",
       "  'Books',\n",
       "  'Personal',\n",
       "  'PhD',\n",
       "  'Terminal',\n",
       "  'S.F.Ratio'],\n",
       " '0.221364%': ['Apps',\n",
       "  'Accept',\n",
       "  'Enroll',\n",
       "  'Top10perc',\n",
       "  'Top25perc',\n",
       "  'F.Undergrad',\n",
       "  'P.Undergrad',\n",
       "  'Outstate',\n",
       "  'Room.Board',\n",
       "  'Books',\n",
       "  'Personal',\n",
       "  'PhD',\n",
       "  'Terminal',\n",
       "  'S.F.Ratio',\n",
       "  'perc.alumni',\n",
       "  'Expend']}"
      ]
     },
     "execution_count": 22,
     "metadata": {},
     "output_type": "execute_result"
    }
   ],
   "source": [
    "feat_set = {}\n",
    "features = ['Apps', 'Accept', 'Enroll', 'Top10perc', 'Top25perc',\n",
    "       'F.Undergrad', 'P.Undergrad', 'Outstate', 'Room.Board', 'Books',\n",
    "       'Personal', 'PhD', 'Terminal', 'S.F.Ratio', 'perc.alumni', 'Expend',\n",
    "       'Grad.Rate']\n",
    "\n",
    "for i in range(len(features)-1):\n",
    "    feat_set[train_model(df, features[:i+1])] = features[:i+1]\n",
    "\n",
    "feat_set\n"
   ]
  },
  {
   "cell_type": "code",
   "execution_count": 26,
   "metadata": {},
   "outputs": [
    {
     "data": {
      "text/plain": [
       "{'0.828829%': ['Apps',\n",
       "  'Accept',\n",
       "  'Enroll',\n",
       "  'Top10perc',\n",
       "  'Top25perc',\n",
       "  'F.Undergrad',\n",
       "  'P.Undergrad',\n",
       "  'Outstate',\n",
       "  'Room.Board',\n",
       "  'Books',\n",
       "  'Personal']}"
      ]
     },
     "execution_count": 26,
     "metadata": {},
     "output_type": "execute_result"
    }
   ],
   "source": [
    "dict(\n",
    "        filter(\n",
    "            lambda item: item[0]==max(feat_set.keys()), \n",
    "            feat_set.items()\n",
    "            )\n",
    "        )\n",
    "    "
   ]
  },
  {
   "cell_type": "code",
   "execution_count": 15,
   "metadata": {},
   "outputs": [
    {
     "name": "stderr",
     "output_type": "stream",
     "text": [
      "C:\\Users\\ireti\\AppData\\Local\\Packages\\PythonSoftwareFoundation.Python.3.10_qbz5n2kfra8p0\\LocalCache\\local-packages\\Python310\\site-packages\\sklearn\\cluster\\_kmeans.py:870: FutureWarning: The default value of `n_init` will change from 10 to 'auto' in 1.4. Set the value of `n_init` explicitly to suppress the warning\n",
      "  warnings.warn(\n",
      "C:\\Users\\ireti\\AppData\\Local\\Packages\\PythonSoftwareFoundation.Python.3.10_qbz5n2kfra8p0\\LocalCache\\local-packages\\Python310\\site-packages\\sklearn\\cluster\\_kmeans.py:870: FutureWarning: The default value of `n_init` will change from 10 to 'auto' in 1.4. Set the value of `n_init` explicitly to suppress the warning\n",
      "  warnings.warn(\n",
      "C:\\Users\\ireti\\AppData\\Local\\Packages\\PythonSoftwareFoundation.Python.3.10_qbz5n2kfra8p0\\LocalCache\\local-packages\\Python310\\site-packages\\sklearn\\cluster\\_kmeans.py:870: FutureWarning: The default value of `n_init` will change from 10 to 'auto' in 1.4. Set the value of `n_init` explicitly to suppress the warning\n",
      "  warnings.warn(\n",
      "C:\\Users\\ireti\\AppData\\Local\\Packages\\PythonSoftwareFoundation.Python.3.10_qbz5n2kfra8p0\\LocalCache\\local-packages\\Python310\\site-packages\\sklearn\\cluster\\_kmeans.py:870: FutureWarning: The default value of `n_init` will change from 10 to 'auto' in 1.4. Set the value of `n_init` explicitly to suppress the warning\n",
      "  warnings.warn(\n"
     ]
    },
    {
     "name": "stdout",
     "output_type": "stream",
     "text": [
      "['Grad.Rate'] 0.3667953667953668\n",
      "['Grad.Rate', 'Expend'] 0.37194337194337196\n",
      "['Grad.Rate', 'Expend', 'perc.alumni'] 0.38095238095238093\n",
      "['Grad.Rate', 'Expend', 'perc.alumni', 'S.F.Ratio'] 0.37065637065637064\n"
     ]
    },
    {
     "name": "stderr",
     "output_type": "stream",
     "text": [
      "C:\\Users\\ireti\\AppData\\Local\\Packages\\PythonSoftwareFoundation.Python.3.10_qbz5n2kfra8p0\\LocalCache\\local-packages\\Python310\\site-packages\\sklearn\\cluster\\_kmeans.py:870: FutureWarning: The default value of `n_init` will change from 10 to 'auto' in 1.4. Set the value of `n_init` explicitly to suppress the warning\n",
      "  warnings.warn(\n",
      "C:\\Users\\ireti\\AppData\\Local\\Packages\\PythonSoftwareFoundation.Python.3.10_qbz5n2kfra8p0\\LocalCache\\local-packages\\Python310\\site-packages\\sklearn\\cluster\\_kmeans.py:870: FutureWarning: The default value of `n_init` will change from 10 to 'auto' in 1.4. Set the value of `n_init` explicitly to suppress the warning\n",
      "  warnings.warn(\n"
     ]
    },
    {
     "name": "stdout",
     "output_type": "stream",
     "text": [
      "['Grad.Rate', 'Expend', 'perc.alumni', 'S.F.Ratio', 'Terminal'] 0.37065637065637064\n",
      "['Grad.Rate', 'Expend', 'perc.alumni', 'S.F.Ratio', 'Terminal', 'PhD'] 0.38095238095238093\n",
      "['Grad.Rate', 'Expend', 'perc.alumni', 'S.F.Ratio', 'Terminal', 'PhD', 'Personal'] 0.6190476190476191\n",
      "['Grad.Rate', 'Expend', 'perc.alumni', 'S.F.Ratio', 'Terminal', 'PhD', 'Personal', 'Books'] 0.3745173745173745\n"
     ]
    },
    {
     "name": "stderr",
     "output_type": "stream",
     "text": [
      "C:\\Users\\ireti\\AppData\\Local\\Packages\\PythonSoftwareFoundation.Python.3.10_qbz5n2kfra8p0\\LocalCache\\local-packages\\Python310\\site-packages\\sklearn\\cluster\\_kmeans.py:870: FutureWarning: The default value of `n_init` will change from 10 to 'auto' in 1.4. Set the value of `n_init` explicitly to suppress the warning\n",
      "  warnings.warn(\n",
      "C:\\Users\\ireti\\AppData\\Local\\Packages\\PythonSoftwareFoundation.Python.3.10_qbz5n2kfra8p0\\LocalCache\\local-packages\\Python310\\site-packages\\sklearn\\cluster\\_kmeans.py:870: FutureWarning: The default value of `n_init` will change from 10 to 'auto' in 1.4. Set the value of `n_init` explicitly to suppress the warning\n",
      "  warnings.warn(\n",
      "C:\\Users\\ireti\\AppData\\Local\\Packages\\PythonSoftwareFoundation.Python.3.10_qbz5n2kfra8p0\\LocalCache\\local-packages\\Python310\\site-packages\\sklearn\\cluster\\_kmeans.py:870: FutureWarning: The default value of `n_init` will change from 10 to 'auto' in 1.4. Set the value of `n_init` explicitly to suppress the warning\n",
      "  warnings.warn(\n",
      "C:\\Users\\ireti\\AppData\\Local\\Packages\\PythonSoftwareFoundation.Python.3.10_qbz5n2kfra8p0\\LocalCache\\local-packages\\Python310\\site-packages\\sklearn\\cluster\\_kmeans.py:870: FutureWarning: The default value of `n_init` will change from 10 to 'auto' in 1.4. Set the value of `n_init` explicitly to suppress the warning\n",
      "  warnings.warn(\n"
     ]
    },
    {
     "name": "stdout",
     "output_type": "stream",
     "text": [
      "['Grad.Rate', 'Expend', 'perc.alumni', 'S.F.Ratio', 'Terminal', 'PhD', 'Personal', 'Books', 'Room.Board'] 0.38223938223938225\n",
      "['Grad.Rate', 'Expend', 'perc.alumni', 'S.F.Ratio', 'Terminal', 'PhD', 'Personal', 'Books', 'Room.Board', 'Outstate'] 0.444015444015444\n",
      "['Grad.Rate', 'Expend', 'perc.alumni', 'S.F.Ratio', 'Terminal', 'PhD', 'Personal', 'Books', 'Room.Board', 'Outstate', 'P.Undergrad'] 0.5534105534105535\n",
      "['Grad.Rate', 'Expend', 'perc.alumni', 'S.F.Ratio', 'Terminal', 'PhD', 'Personal', 'Books', 'Room.Board', 'Outstate', 'P.Undergrad', 'F.Undergrad'] 0.462033462033462\n"
     ]
    },
    {
     "name": "stderr",
     "output_type": "stream",
     "text": [
      "C:\\Users\\ireti\\AppData\\Local\\Packages\\PythonSoftwareFoundation.Python.3.10_qbz5n2kfra8p0\\LocalCache\\local-packages\\Python310\\site-packages\\sklearn\\cluster\\_kmeans.py:870: FutureWarning: The default value of `n_init` will change from 10 to 'auto' in 1.4. Set the value of `n_init` explicitly to suppress the warning\n",
      "  warnings.warn(\n",
      "C:\\Users\\ireti\\AppData\\Local\\Packages\\PythonSoftwareFoundation.Python.3.10_qbz5n2kfra8p0\\LocalCache\\local-packages\\Python310\\site-packages\\sklearn\\cluster\\_kmeans.py:870: FutureWarning: The default value of `n_init` will change from 10 to 'auto' in 1.4. Set the value of `n_init` explicitly to suppress the warning\n",
      "  warnings.warn(\n",
      "C:\\Users\\ireti\\AppData\\Local\\Packages\\PythonSoftwareFoundation.Python.3.10_qbz5n2kfra8p0\\LocalCache\\local-packages\\Python310\\site-packages\\sklearn\\cluster\\_kmeans.py:870: FutureWarning: The default value of `n_init` will change from 10 to 'auto' in 1.4. Set the value of `n_init` explicitly to suppress the warning\n",
      "  warnings.warn(\n"
     ]
    },
    {
     "name": "stdout",
     "output_type": "stream",
     "text": [
      "['Grad.Rate', 'Expend', 'perc.alumni', 'S.F.Ratio', 'Terminal', 'PhD', 'Personal', 'Books', 'Room.Board', 'Outstate', 'P.Undergrad', 'F.Undergrad', 'Top25perc'] 0.5379665379665379\n",
      "['Grad.Rate', 'Expend', 'perc.alumni', 'S.F.Ratio', 'Terminal', 'PhD', 'Personal', 'Books', 'Room.Board', 'Outstate', 'P.Undergrad', 'F.Undergrad', 'Top25perc', 'Top10perc'] 0.5392535392535392\n",
      "['Grad.Rate', 'Expend', 'perc.alumni', 'S.F.Ratio', 'Terminal', 'PhD', 'Personal', 'Books', 'Room.Board', 'Outstate', 'P.Undergrad', 'F.Undergrad', 'Top25perc', 'Top10perc', 'Enroll'] 0.5379665379665379\n",
      "['Grad.Rate', 'Expend', 'perc.alumni', 'S.F.Ratio', 'Terminal', 'PhD', 'Personal', 'Books', 'Room.Board', 'Outstate', 'P.Undergrad', 'F.Undergrad', 'Top25perc', 'Top10perc', 'Enroll', 'Accept'] 0.46074646074646075\n"
     ]
    },
    {
     "name": "stderr",
     "output_type": "stream",
     "text": [
      "C:\\Users\\ireti\\AppData\\Local\\Packages\\PythonSoftwareFoundation.Python.3.10_qbz5n2kfra8p0\\LocalCache\\local-packages\\Python310\\site-packages\\sklearn\\cluster\\_kmeans.py:870: FutureWarning: The default value of `n_init` will change from 10 to 'auto' in 1.4. Set the value of `n_init` explicitly to suppress the warning\n",
      "  warnings.warn(\n",
      "C:\\Users\\ireti\\AppData\\Local\\Packages\\PythonSoftwareFoundation.Python.3.10_qbz5n2kfra8p0\\LocalCache\\local-packages\\Python310\\site-packages\\sklearn\\cluster\\_kmeans.py:870: FutureWarning: The default value of `n_init` will change from 10 to 'auto' in 1.4. Set the value of `n_init` explicitly to suppress the warning\n",
      "  warnings.warn(\n",
      "C:\\Users\\ireti\\AppData\\Local\\Packages\\PythonSoftwareFoundation.Python.3.10_qbz5n2kfra8p0\\LocalCache\\local-packages\\Python310\\site-packages\\sklearn\\cluster\\_kmeans.py:870: FutureWarning: The default value of `n_init` will change from 10 to 'auto' in 1.4. Set the value of `n_init` explicitly to suppress the warning\n",
      "  warnings.warn(\n"
     ]
    }
   ],
   "source": [
    "r_features = list(reversed(features))\n",
    "\n",
    "for i in range(len(r_features)-1):\n",
    "    print(r_features[:i+1], train_model(df, r_features[:i+1]))"
   ]
  }
 ],
 "metadata": {
  "kernelspec": {
   "display_name": "Python 3",
   "language": "python",
   "name": "python3"
  },
  "language_info": {
   "codemirror_mode": {
    "name": "ipython",
    "version": 3
   },
   "file_extension": ".py",
   "mimetype": "text/x-python",
   "name": "python",
   "nbconvert_exporter": "python",
   "pygments_lexer": "ipython3",
   "version": "3.10.9"
  },
  "vscode": {
   "interpreter": {
    "hash": "620e5aca6dfc262dbbf3b8c44d5cccefd9ee684e03e6a97d0516e66a516bcd4e"
   }
  }
 },
 "nbformat": 4,
 "nbformat_minor": 1
}
